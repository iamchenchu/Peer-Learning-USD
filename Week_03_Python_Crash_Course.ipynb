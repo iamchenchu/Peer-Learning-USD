{
  "nbformat": 4,
  "nbformat_minor": 0,
  "metadata": {
    "colab": {
      "provenance": [],
      "authorship_tag": "ABX9TyMF9Y0K3Q00UEr0vDuK7T0d",
      "include_colab_link": true
    },
    "kernelspec": {
      "name": "python3",
      "display_name": "Python 3"
    },
    "language_info": {
      "name": "python"
    }
  },
  "cells": [
    {
      "cell_type": "markdown",
      "metadata": {
        "id": "view-in-github",
        "colab_type": "text"
      },
      "source": [
        "<a href=\"https://colab.research.google.com/github/iamchenchu/Peer-Learning-USD/blob/main/Week_03_Python_Crash_Course.ipynb\" target=\"_parent\"><img src=\"https://colab.research.google.com/assets/colab-badge.svg\" alt=\"Open In Colab\"/></a>"
      ]
    },
    {
      "cell_type": "markdown",
      "source": [
        "##### So far covered Syllabus\n",
        "  0. Basics of python and memory representation\n",
        "  1. Variables and Data Types\n",
        "  2. Data Structures : `list, tuple, set, dictionary`\n",
        "  3. Operators\n",
        "  4. Type Casting\n",
        "  5. Inputs from the user\n",
        "  6. Conditionals : `If, else, elif`\n",
        "  7. Functions : `InBuilt, User Defined`\n",
        "\n"
      ],
      "metadata": {
        "id": "aPsOGUgrRrWB"
      }
    },
    {
      "cell_type": "markdown",
      "source": [
        "##### Week 3 : Expected Syllabus\n",
        "\n",
        "  1. Loops : `While, For`\n",
        "  2. Object Oriented Programming\n",
        "    1. Classes\n",
        "    2. Objects\n",
        "    3. Absstraction\n",
        "    4. Encapsulation\n",
        "    5. Inheritance and types\n",
        "    6. Polymorphism"
      ],
      "metadata": {
        "id": "3YD1_F4jSFeU"
      }
    },
    {
      "cell_type": "code",
      "source": [
        "# While loop Basic\n",
        "\n",
        "i = 1\n",
        "\n",
        "while i <= 10:\n",
        "  print(i)\n",
        "  i = i +1\n"
      ],
      "metadata": {
        "colab": {
          "base_uri": "https://localhost:8080/"
        },
        "id": "UI0ZZ2PxtdVK",
        "outputId": "c59e980a-7625-4126-d3f8-b35fc1c57af1"
      },
      "execution_count": null,
      "outputs": [
        {
          "output_type": "stream",
          "name": "stdout",
          "text": [
            "1\n",
            "2\n",
            "3\n",
            "4\n",
            "5\n",
            "6\n",
            "7\n",
            "8\n",
            "9\n",
            "10\n"
          ]
        }
      ]
    },
    {
      "cell_type": "code",
      "source": [
        "# While loop with break\n",
        "\n",
        "product_price = int(input(\"Please enter the price : \"))\n",
        "nums =1\n",
        "while nums <= 10:\n",
        "  if product_price >= 500:\n",
        "    break\n",
        "  else :\n",
        "    print(f\"The product price is {product_price}, now the iteration no : {nums}\")\n",
        "  nums += 2\n",
        "\n"
      ],
      "metadata": {
        "colab": {
          "base_uri": "https://localhost:8080/"
        },
        "id": "9ejCTvOmtrTd",
        "outputId": "61d2315c-5b06-4f53-d99b-fb288b71997f"
      },
      "execution_count": null,
      "outputs": [
        {
          "output_type": "stream",
          "name": "stdout",
          "text": [
            "Please enter the price : 100\n",
            "The product price is 100, now the iteration no : 1\n",
            "The product price is 100, now the iteration no : 3\n",
            "The product price is 100, now the iteration no : 5\n",
            "The product price is 100, now the iteration no : 7\n",
            "The product price is 100, now the iteration no : 9\n"
          ]
        }
      ]
    },
    {
      "cell_type": "code",
      "source": [
        "# While loop with continue\n",
        "\n",
        "product_price = int(input(\"Please enter the price : \"))\n",
        "nums =1\n",
        "while nums <= 10:\n",
        "  if nums == 5:\n",
        "    nums += 1\n",
        "    continue\n",
        "  else :\n",
        "    print(f\"The product price is {product_price}, now the iteration no : {nums}\")\n",
        "  nums += 2\n",
        "\n"
      ],
      "metadata": {
        "colab": {
          "base_uri": "https://localhost:8080/"
        },
        "id": "_HWJdsh_vcsO",
        "outputId": "e7f0fb57-20bb-426f-f668-ae7f4e612a60"
      },
      "execution_count": null,
      "outputs": [
        {
          "output_type": "stream",
          "name": "stdout",
          "text": [
            "Please enter the price : 123\n",
            "The product price is 123, now the iteration no : 1\n",
            "The product price is 123, now the iteration no : 3\n",
            "The product price is 123, now the iteration no : 6\n",
            "The product price is 123, now the iteration no : 8\n",
            "The product price is 123, now the iteration no : 10\n"
          ]
        }
      ]
    },
    {
      "cell_type": "code",
      "source": [
        "# For Loop\n",
        "\n",
        "list1 = [10, 20, 30, 40, 50, 60]\n",
        "names = (\"Manohar\", \"Chenchu\", \"Ram\", \"Bheem\", \"Krishna\")\n",
        "\n",
        "for _ in list1:\n",
        "  print(_,end='  ')\n",
        "\n",
        "for _ in names:\n",
        "  print(_,end='  ')"
      ],
      "metadata": {
        "colab": {
          "base_uri": "https://localhost:8080/"
        },
        "id": "8GKJwmD2wOEO",
        "outputId": "cc6c0b86-636c-4f1a-a98d-2a56cbb9764c"
      },
      "execution_count": null,
      "outputs": [
        {
          "output_type": "stream",
          "name": "stdout",
          "text": [
            "10  20  30  40  50  60  Manohar  Chenchu  Ram  Bheem  Krishna  "
          ]
        }
      ]
    },
    {
      "cell_type": "code",
      "source": [
        "# range(start=0,end=n, step=1)\n",
        "for num in range(10):\n",
        "  print(num)\n",
        "\n",
        "print(\"The length of the defined list is :\",len(list1))"
      ],
      "metadata": {
        "colab": {
          "base_uri": "https://localhost:8080/"
        },
        "id": "ZSge8g1_yTJ4",
        "outputId": "a12bdb2d-cc81-449b-fc05-110a3a005971"
      },
      "execution_count": null,
      "outputs": [
        {
          "output_type": "stream",
          "name": "stdout",
          "text": [
            "0\n",
            "1\n",
            "2\n",
            "3\n",
            "4\n",
            "5\n",
            "6\n",
            "7\n",
            "8\n",
            "9\n",
            "The length of the defined list is : 6\n"
          ]
        }
      ]
    },
    {
      "cell_type": "code",
      "source": [
        "#range with for loop\n",
        "#6\n",
        "for val in range(len(list1)):\n",
        "  #print(val)\n",
        "  print(\"Iteration no :\",val,\":\",list1[val])\n",
        "\n"
      ],
      "metadata": {
        "colab": {
          "base_uri": "https://localhost:8080/"
        },
        "id": "pqhLHLJfxLk_",
        "outputId": "e3785a66-79bf-428c-ea3d-7621bc816438"
      },
      "execution_count": null,
      "outputs": [
        {
          "output_type": "stream",
          "name": "stdout",
          "text": [
            "Iteration no : 0 : 10\n",
            "Iteration no : 1 : 20\n",
            "Iteration no : 2 : 30\n",
            "Iteration no : 3 : 40\n",
            "Iteration no : 4 : 50\n",
            "Iteration no : 5 : 60\n"
          ]
        }
      ]
    },
    {
      "cell_type": "code",
      "source": [
        "# For loop using break\n",
        "\n",
        "names1 = (\"Manohar\", \"Chenchu\", \"Ram\", \"Bheem\", \"Krishna\")\n",
        "\n",
        "for name in names1:\n",
        "  if name == \"Ram\":\n",
        "    break\n",
        "  else:\n",
        "    print(name)\n"
      ],
      "metadata": {
        "colab": {
          "base_uri": "https://localhost:8080/"
        },
        "id": "aKl9CZaPxkpv",
        "outputId": "2974e548-7a1f-4ec4-9112-6fe4cf3e3429"
      },
      "execution_count": null,
      "outputs": [
        {
          "output_type": "stream",
          "name": "stdout",
          "text": [
            "Manohar\n",
            "Chenchu\n"
          ]
        }
      ]
    },
    {
      "cell_type": "code",
      "source": [
        "names2 = (\"Manohar\", \"Chenchu\", \"Ram\", \"Bheem\", \"Krishna\") # 5\n",
        "for val in range(len(names2)):\n",
        "  if names2[val] == \"Ram\":\n",
        "    val += 1 # this step is too important in the continue statement\n",
        "    continue\n",
        "  else:\n",
        "    print(names2[val])"
      ],
      "metadata": {
        "colab": {
          "base_uri": "https://localhost:8080/"
        },
        "id": "sChymT4a0HcX",
        "outputId": "329192ca-9312-4071-f505-e0bad2daf14c"
      },
      "execution_count": null,
      "outputs": [
        {
          "output_type": "stream",
          "name": "stdout",
          "text": [
            "Manohar\n",
            "Chenchu\n",
            "Bheem\n",
            "Krishna\n"
          ]
        }
      ]
    },
    {
      "cell_type": "code",
      "source": [
        "names2 = (\"Manohar\", \"Chenchu\", \"Ram\", \"Bheem\", \"Krishna\") # 5\n",
        "for name in names2:\n",
        "  if name == \"Ram\":\n",
        "    continue\n",
        "  else:\n",
        "    print(name)"
      ],
      "metadata": {
        "colab": {
          "base_uri": "https://localhost:8080/"
        },
        "id": "lcAs0JBx1JB8",
        "outputId": "3a4adbbc-aafa-4db7-e0a1-b468108c2374"
      },
      "execution_count": null,
      "outputs": [
        {
          "output_type": "stream",
          "name": "stdout",
          "text": [
            "Manohar\n",
            "Chenchu\n",
            "Bheem\n",
            "Krishna\n"
          ]
        }
      ]
    },
    {
      "cell_type": "markdown",
      "source": [
        "#### Object Oriented Programming\n",
        "  1. Classes\n",
        "  2. Objects\n",
        "  3. Absstraction\n",
        "  4. Encapsulation\n",
        "  5. Inheritance and types\n",
        "  6. Polymorphism"
      ],
      "metadata": {
        "id": "SkrRrMNp13i9"
      }
    },
    {
      "cell_type": "code",
      "source": [],
      "metadata": {
        "id": "RXht2nxN4ghv"
      },
      "execution_count": null,
      "outputs": []
    },
    {
      "cell_type": "code",
      "source": [
        "# Basic Class\n",
        "class Student:\n",
        "  name = \"Maha\" # class attributes\n",
        "  age = 28\n",
        "  univ = \"USD\"\n",
        "\n",
        "s1 = Student() # Now we have created an example of the blue print\n",
        "print(s1.name)\n",
        "print(s1.age)\n",
        "print(s1.univ)\n",
        "\n",
        "s2 = Student() # Now 2nd example created\n",
        "print(s2.name)\n",
        "print(s2.age)\n",
        "print(s2.univ)"
      ],
      "metadata": {
        "colab": {
          "base_uri": "https://localhost:8080/"
        },
        "id": "b7VJ1P9F1sy7",
        "outputId": "ac14a687-e23a-4ae1-8f36-61c86f069051"
      },
      "execution_count": null,
      "outputs": [
        {
          "output_type": "stream",
          "name": "stdout",
          "text": [
            "Maha\n",
            "28\n",
            "USD\n",
            "Maha\n",
            "28\n",
            "USD\n"
          ]
        }
      ]
    },
    {
      "cell_type": "code",
      "source": [
        "# To create different object attributes I will use constructor\n",
        "\n",
        "class Students:\n",
        "  univ = \"USD\"\n",
        "  depart =\"CSE\"\n",
        "\n",
        "  # Initializing the constructor\n",
        "  def __init__(self,name, age,dob):\n",
        "    print(self)\n",
        "    self.name = name # Task1\n",
        "    self.age = age\n",
        "    self.dob = dob\n",
        "    print(\"Adding the details\")\n",
        "    print(\"I am learning python\")\n",
        "\n",
        "  def hello(self):\n",
        "    print(f\"Hello {self.name}\")\n",
        "\n",
        "\n",
        "s1 = Students(\"Triveni\", 25, \"Feb\")\n",
        "#print(s1.name, s1.age, s1.dob, s1.univ, s1.depart)\n",
        "s2 = Students(\"Manohar\", 30, \"June\")\n",
        "s3 = Students(\"Maha\",26, \"Dec\")\n",
        "\n",
        "s1.hello()\n",
        "\n",
        "print(s1.univ, s2.univ, s3.univ)\n",
        "print(s1.depart, s2.depart, s3.depart)\n",
        "\n"
      ],
      "metadata": {
        "colab": {
          "base_uri": "https://localhost:8080/"
        },
        "id": "4PW59C2x46EL",
        "outputId": "061a7521-2d9e-485c-8fa6-e8749e5c3bad"
      },
      "execution_count": null,
      "outputs": [
        {
          "output_type": "stream",
          "name": "stdout",
          "text": [
            "<__main__.Students object at 0x7b598fd02bf0>\n",
            "Adding the details\n",
            "I am learning python\n",
            "<__main__.Students object at 0x7b598fd011b0>\n",
            "Adding the details\n",
            "I am learning python\n",
            "<__main__.Students object at 0x7b598fd02f80>\n",
            "Adding the details\n",
            "I am learning python\n",
            "Hello Triveni\n",
            "USD USD USD\n",
            "CSE CSE CSE\n"
          ]
        }
      ]
    },
    {
      "cell_type": "code",
      "source": [
        "class Demo:\n",
        "  univ = \"IIT\"\n",
        "\n",
        "  def __init__(self, n):\n",
        "    self.n = n\n",
        "    print(\"Object created\")\n",
        "\n",
        "n = input()\n",
        "d1 = Demo(n)\n",
        "d2 = Demo(n)\n",
        "print(d1.n, d2.n)"
      ],
      "metadata": {
        "colab": {
          "base_uri": "https://localhost:8080/"
        },
        "id": "9cE_Afom63e6",
        "outputId": "e5ba35c5-aa4e-4489-c9bc-6dac43f50c86"
      },
      "execution_count": null,
      "outputs": [
        {
          "output_type": "stream",
          "name": "stdout",
          "text": [
            "Manohar\n",
            "Object created\n",
            "Object created\n",
            "Manohar Manohar\n"
          ]
        }
      ]
    },
    {
      "cell_type": "code",
      "source": [],
      "metadata": {
        "id": "Zh4HC7tHBfij"
      },
      "execution_count": null,
      "outputs": []
    }
  ]
}