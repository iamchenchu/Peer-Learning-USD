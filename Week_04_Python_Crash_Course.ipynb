{
  "nbformat": 4,
  "nbformat_minor": 0,
  "metadata": {
    "colab": {
      "provenance": [],
      "authorship_tag": "ABX9TyN+c6bY3omZMRNx6Ve34eu3",
      "include_colab_link": true
    },
    "kernelspec": {
      "name": "python3",
      "display_name": "Python 3"
    },
    "language_info": {
      "name": "python"
    }
  },
  "cells": [
    {
      "cell_type": "markdown",
      "metadata": {
        "id": "view-in-github",
        "colab_type": "text"
      },
      "source": [
        "<a href=\"https://colab.research.google.com/github/iamchenchu/Peer-Learning-USD/blob/main/Week_04_Python_Crash_Course.ipynb\" target=\"_parent\"><img src=\"https://colab.research.google.com/assets/colab-badge.svg\" alt=\"Open In Colab\"/></a>"
      ]
    },
    {
      "cell_type": "markdown",
      "source": [
        "#### Topics covered in Python Crash Course\n",
        "\n",
        "  1. Basics of python and memory representation\n",
        "  2. Variables and Data Types\n",
        "  3. Data Structures : `list, tuple, set, dictionary`\n",
        "  4. Operators\n",
        "  5. Type Casting\n",
        "  6. Inputs from the user\n",
        "  7. Conditionals : `If, else, elif`\n",
        "  8. Functions : `InBuilt, User Defined`\n",
        "  9. Loops : `for, while`\n",
        "  10. Object Oriented Programming\n",
        "        * Classes\n",
        "        * Objects\n",
        "        * Encapsulation\n",
        "        * Abstraction\n",
        "        * Inheritance\n",
        "        * polymorphism\n",
        "  11. File Handling\n",
        "  12. Error Handling\n",
        "  13. Modules and Packages basics\n",
        "\n",
        "\n",
        "\n",
        "    \n",
        "\n"
      ],
      "metadata": {
        "id": "Cto0aFFdNXD0"
      }
    },
    {
      "cell_type": "code",
      "source": [
        "# Private methods\n",
        "class Person:\n",
        "  __name = \"Krishna\" # class attribute\n",
        "\n",
        "  def __hello(self):\n",
        "    print(f\"Hello {self.__name}\")\n",
        "\n",
        "  def welcome(self):\n",
        "    self.__hello()\n",
        "    print(f\"Welcome to USD MR.{self.__name}\")\n",
        "\n",
        "\n",
        "p1 = Person() # p1 is an object\n",
        "p1.welcome()\n"
      ],
      "metadata": {
        "id": "Sg2TtlW6Ns7k",
        "colab": {
          "base_uri": "https://localhost:8080/"
        },
        "outputId": "8891c624-8755-441e-daee-b977dd287266"
      },
      "execution_count": null,
      "outputs": [
        {
          "output_type": "stream",
          "name": "stdout",
          "text": [
            "Hello Krishna\n",
            "Welcome to USD MR.Krishna\n"
          ]
        }
      ]
    },
    {
      "cell_type": "code",
      "source": [
        "\"Inheritance : When we have a class that is derived from another class, the current would be called as child class, the class which has been derived from is called parent class\"\n",
        "\n",
        "# Single Inheritance\n",
        "\n",
        "class Car:\n",
        "  @staticmethod # decorator\n",
        "  def start():\n",
        "    print(\"Car started\")\n",
        "\n",
        "  @staticmethod\n",
        "  def stop():\n",
        "    print(\"Car stopped\")\n",
        "\n",
        "class Toyota(Car):\n",
        "\n",
        "  def __init__(self, name):\n",
        "    self.name = name\n",
        "\n",
        "c1 = Toyota(\"Corolla\")\n",
        "print(f\"The car name is {c1.name}\")\n",
        "c1.start()\n",
        "c2 = Toyota(\"Fortunar\")\n",
        "print(f\"The car name is {c2.name}\")\n",
        "c2.start()\n",
        "c3 = Toyota(\"Camry\")\n",
        "print(f\"The car name is {c3.name}\")\n",
        "c3.start()"
      ],
      "metadata": {
        "colab": {
          "base_uri": "https://localhost:8080/"
        },
        "id": "2XdkN6AWtYNX",
        "outputId": "94ef982c-36b6-4e38-8796-b9c66f3f59d6"
      },
      "execution_count": null,
      "outputs": [
        {
          "output_type": "stream",
          "name": "stdout",
          "text": [
            "The car name is Corolla\n",
            "Car started\n",
            "The car name is Fortunar\n",
            "Car started\n",
            "The car name is Camry\n",
            "Car started\n"
          ]
        }
      ]
    },
    {
      "cell_type": "markdown",
      "source": [
        "# Inheritance Types :\n",
        "  1. Single Inheritance : derived from one single class\n",
        "  2. Multiple Inheritance : child class derived from 2 or more classes\n",
        "  3. Multi Level Inheritance : the child class is derived from a class which is derived from another class\n",
        "\n",
        "\n"
      ],
      "metadata": {
        "id": "y48lNEWm0odf"
      }
    },
    {
      "cell_type": "code",
      "source": [
        "# Multi Level Inheritance\n",
        "class Car:\n",
        "  @staticmethod\n",
        "  def start():\n",
        "    print(\"The car is started\")\n",
        "\n",
        "  @staticmethod\n",
        "  def stop():\n",
        "    print(\"The car is stopped\")\n",
        "\n",
        "class Toyota(Car):\n",
        "  def __init__(self, brand):\n",
        "    self.brand = brand\n",
        "\n",
        "class Fortuner(Toyota):\n",
        "  def __init__(self, type):\n",
        "    self.type = type\n",
        "\n",
        "\n",
        "c1 = Fortuner(\"Diesel\")\n",
        "print(f\"The car type is {c1.type}\")\n",
        "c1.start()\n",
        "c2 = Fortuner(\"Electric\")\n",
        "print(f\"The car type is {c2.type}\")\n",
        "c2.start()\n",
        "c3 = Fortuner(\"Hybrid\")\n",
        "print(f\"The car type is {c3.type}\")\n",
        "c3.start()\n",
        "\n",
        "c1.stop()\n",
        "c2.stop()\n",
        "c3.stop()\n",
        "\n",
        "\n"
      ],
      "metadata": {
        "colab": {
          "base_uri": "https://localhost:8080/"
        },
        "id": "KjpEt_8nyxW7",
        "outputId": "d006f7bb-35e2-4145-9e61-2da5d133408e"
      },
      "execution_count": null,
      "outputs": [
        {
          "output_type": "stream",
          "name": "stdout",
          "text": [
            "The car type is Diesel\n",
            "The car is started\n",
            "The car type is Electric\n",
            "The car is started\n",
            "The car type is Hybrid\n",
            "The car is started\n",
            "The car is stopped\n",
            "The car is stopped\n",
            "The car is stopped\n"
          ]
        }
      ]
    },
    {
      "cell_type": "code",
      "source": [
        "# Multiple Inheritance\n",
        "class A: # Father\n",
        "  varA = \"Welcome to class A\"\n",
        "\n",
        "class B : # Mother\n",
        "  varB = \"Welcome to class B\"\n",
        "\n",
        "class C(A, B): # Our Class\n",
        "  varC= \"Welcome to class C\"\n",
        "\n",
        "c1 = C() # Creating object with our class blue print\n",
        "\n",
        "print(c1.varC)\n",
        "print(c1.varB)\n",
        "print(c1.varA)\n",
        "\n"
      ],
      "metadata": {
        "colab": {
          "base_uri": "https://localhost:8080/"
        },
        "id": "4RJEkz7t28LX",
        "outputId": "de7d712c-2322-41bd-8d40-cf5b6cf595de"
      },
      "execution_count": null,
      "outputs": [
        {
          "output_type": "stream",
          "name": "stdout",
          "text": [
            "Welcome to class C\n",
            "Welcome to class B\n",
            "Welcome to class A\n"
          ]
        }
      ]
    },
    {
      "cell_type": "code",
      "source": [
        "# super(): you can access and define the methods from the parents in our current class\n",
        "\n",
        "class Car:\n",
        "  def __init__(self, name):\n",
        "    print(\"Calling the constructor in Car class\")\n",
        "    self.name = name\n",
        "\n",
        "  @staticmethod\n",
        "  def start():\n",
        "    print(\"Car is started\")\n",
        "  @staticmethod\n",
        "  def stop():\n",
        "    print(\"Car is stopped\")\n",
        "\n",
        "class Toyota(Car):\n",
        "  def __init__(self, name, type):\n",
        "    print(\"Calling the constructor in toyota class\")\n",
        "    super().__init__(name)\n",
        "    self.type = type\n",
        "\n",
        "car1 = Toyota(\"Carmy\", \"Diesel\")\n",
        "print(car1.name)\n",
        "print(car1.type)\n"
      ],
      "metadata": {
        "colab": {
          "base_uri": "https://localhost:8080/"
        },
        "id": "SZYO6yHn4UtP",
        "outputId": "6cd8ac46-1326-4eee-98d5-d5cf4547b466"
      },
      "execution_count": null,
      "outputs": [
        {
          "output_type": "stream",
          "name": "stdout",
          "text": [
            "Calling the constructor in toyota class\n",
            "Calling the constructor in Car class\n"
          ]
        }
      ]
    },
    {
      "cell_type": "code",
      "source": [
        "# super(): you can access and define the methods from the parents in our current class\n",
        "# Multi Level Inheritance\n",
        "\n",
        "class Car:\n",
        "  def __init__(self, name):\n",
        "    print(\"Calling the constructor in Car class\")\n",
        "    self.name = name\n",
        "\n",
        "  @staticmethod\n",
        "  def start():\n",
        "    print(\"Car is started\")\n",
        "  @staticmethod\n",
        "  def stop():\n",
        "    print(\"Car is stopped\")\n",
        "\n",
        "class Toyota(Car):\n",
        "  def __init__(self, name, type):\n",
        "    print(\"Calling the constructor in toyota class\")\n",
        "    super().__init__(name)\n",
        "    self.type = type\n",
        "\n",
        "class BMW(Toyota):\n",
        "  def __init__(self, name, type, model):\n",
        "    super().__init__(name, type)\n",
        "    self.model = model\n",
        "\n",
        "car1 =BMW(\"Coupe\", \"Diesel\", \"Z4\")\n",
        "print(car1.name)\n",
        "print(car1.type)\n",
        "print(car1.model)\n"
      ],
      "metadata": {
        "colab": {
          "base_uri": "https://localhost:8080/"
        },
        "id": "Yb5N03_D6Vu-",
        "outputId": "9ee99cd4-f200-4fe8-c559-763cc44d6d1c"
      },
      "execution_count": null,
      "outputs": [
        {
          "output_type": "stream",
          "name": "stdout",
          "text": [
            "Calling the constructor in toyota class\n",
            "Calling the constructor in Car class\n",
            "Coupe\n",
            "Diesel\n",
            "Z4\n"
          ]
        }
      ]
    },
    {
      "cell_type": "code",
      "source": [
        "# Polymorphism  : same name but different operations / behaviour depends on the context\n",
        "\n",
        "class Animal:\n",
        "  def speak(self):\n",
        "    return \"shout!!!\"\n",
        "\n",
        "class Dog(Animal):\n",
        "  def speak(self):\n",
        "    return \"Bow\"\n",
        "\n",
        "class Cat(Animal):\n",
        "  def speak(self):\n",
        "    return \"Meoww\"\n",
        "\n",
        "class Cow(Animal):\n",
        "  def speak(self):\n",
        "    return \"Ambaa\"\n",
        "\n",
        "\n",
        "dog = Dog()\n",
        "print(dog.speak()) #\"Bow\"\n",
        "\n",
        "cat = Cat()\n",
        "print(cat.speak()) #\"Meoww\"\n",
        "\n",
        "cow = Cow()\n",
        "print(cow.speak()) #\"Ambaa\"\n",
        "\n"
      ],
      "metadata": {
        "colab": {
          "base_uri": "https://localhost:8080/"
        },
        "id": "wYCu0Qnn7iU7",
        "outputId": "ee9598d4-90a1-4b21-c7b5-c77dae661a8c"
      },
      "execution_count": null,
      "outputs": [
        {
          "output_type": "stream",
          "name": "stdout",
          "text": [
            "Bow\n",
            "Meoww\n",
            "Ambaa\n"
          ]
        }
      ]
    },
    {
      "cell_type": "code",
      "source": [
        "# Polymorphism  : same name but different operations / behaviour depends on the context\n",
        "# Looping the objects\n",
        "\n",
        "class Animal:\n",
        "  def speak(self):\n",
        "    return \"shout!!!\"\n",
        "\n",
        "class Dog(Animal):\n",
        "  def speak(self):\n",
        "    return \"Bow\"\n",
        "\n",
        "class Cat(Animal):\n",
        "  def speak(self):\n",
        "    return \"Meoww\"\n",
        "\n",
        "class Cow(Animal):\n",
        "  def speak(self):\n",
        "    return \"Ambaa\"\n",
        "\n",
        "animals = [Dog(), Cat(), Cow()]\n",
        "print(type(animals))\n",
        "\n",
        "for animal in animals:\n",
        "  print(animal.speak())"
      ],
      "metadata": {
        "colab": {
          "base_uri": "https://localhost:8080/"
        },
        "id": "tDSZK7LpBWXv",
        "outputId": "ce06d1f6-e3c1-4377-8c1d-85699b43dced"
      },
      "execution_count": null,
      "outputs": [
        {
          "output_type": "stream",
          "name": "stdout",
          "text": [
            "<class 'list'>\n",
            "Bow\n",
            "Meoww\n",
            "Ambaa\n"
          ]
        }
      ]
    },
    {
      "cell_type": "markdown",
      "source": [
        "#### FILE HANDLING\n"
      ],
      "metadata": {
        "id": "VciJJXSr0WV3"
      }
    },
    {
      "cell_type": "code",
      "source": [
        "# Present working directory\n",
        "!pwd"
      ],
      "metadata": {
        "id": "fSe_1mZkB-NB",
        "colab": {
          "base_uri": "https://localhost:8080/"
        },
        "outputId": "d5e28ff9-ffc2-4c5d-9d77-922636f56953"
      },
      "execution_count": null,
      "outputs": [
        {
          "output_type": "stream",
          "name": "stdout",
          "text": [
            "/content\n"
          ]
        }
      ]
    },
    {
      "cell_type": "code",
      "source": [
        "# Ls : List the items\n",
        "!ls"
      ],
      "metadata": {
        "id": "Cpreyxyc0yX-",
        "colab": {
          "base_uri": "https://localhost:8080/"
        },
        "outputId": "80984f1c-5e71-455c-f6fe-725cc0769399"
      },
      "execution_count": null,
      "outputs": [
        {
          "output_type": "stream",
          "name": "stdout",
          "text": [
            "sample_data\n"
          ]
        }
      ]
    },
    {
      "cell_type": "code",
      "source": [
        "# cd : change directory\n",
        "%cd sample_data"
      ],
      "metadata": {
        "colab": {
          "base_uri": "https://localhost:8080/"
        },
        "id": "6ne-cbg45_Pb",
        "outputId": "bd87c7cc-0e92-426f-a67c-406ffbb63f68"
      },
      "execution_count": null,
      "outputs": [
        {
          "output_type": "stream",
          "name": "stdout",
          "text": [
            "/content/sample_data\n"
          ]
        }
      ]
    },
    {
      "cell_type": "code",
      "source": [
        "!ls"
      ],
      "metadata": {
        "colab": {
          "base_uri": "https://localhost:8080/"
        },
        "id": "Z4Rk-QXa6Kf0",
        "outputId": "163b0537-2983-47fb-d41d-cdd0331ffca0"
      },
      "execution_count": null,
      "outputs": [
        {
          "output_type": "stream",
          "name": "stdout",
          "text": [
            "anscombe.json\t\t     california_housing_train.csv  mnist_train_small.csv\n",
            "california_housing_test.csv  mnist_test.csv\t\t   README.md\n"
          ]
        }
      ]
    },
    {
      "cell_type": "code",
      "source": [
        "%cd .."
      ],
      "metadata": {
        "colab": {
          "base_uri": "https://localhost:8080/"
        },
        "id": "uT7Iew5p6NIg",
        "outputId": "e870351a-5b0e-4d47-999d-7e2d28b78fea"
      },
      "execution_count": null,
      "outputs": [
        {
          "output_type": "stream",
          "name": "stdout",
          "text": [
            "/content\n"
          ]
        }
      ]
    },
    {
      "cell_type": "code",
      "source": [
        "!pwd"
      ],
      "metadata": {
        "colab": {
          "base_uri": "https://localhost:8080/"
        },
        "id": "jDEimEta6dI5",
        "outputId": "ee86cc16-38de-4771-8b3e-259da5dc450b"
      },
      "execution_count": null,
      "outputs": [
        {
          "output_type": "stream",
          "name": "stdout",
          "text": [
            "/content\n"
          ]
        }
      ]
    },
    {
      "cell_type": "code",
      "source": [
        "!touch names.txt # Creating the names.txt file"
      ],
      "metadata": {
        "id": "OgncEKET6efl"
      },
      "execution_count": null,
      "outputs": []
    },
    {
      "cell_type": "code",
      "source": [
        "!ls"
      ],
      "metadata": {
        "colab": {
          "base_uri": "https://localhost:8080/"
        },
        "id": "grkF2aOZ6rTf",
        "outputId": "98497afe-c617-47e1-ddfa-0cace8bc06f4"
      },
      "execution_count": null,
      "outputs": [
        {
          "output_type": "stream",
          "name": "stdout",
          "text": [
            "names.txt  sample_data\n"
          ]
        }
      ]
    },
    {
      "cell_type": "code",
      "source": [
        "!pwd"
      ],
      "metadata": {
        "colab": {
          "base_uri": "https://localhost:8080/"
        },
        "id": "XPpUru7F7dQJ",
        "outputId": "deac2b8d-4ed5-4397-ae3f-128353343aaa"
      },
      "execution_count": null,
      "outputs": [
        {
          "output_type": "stream",
          "name": "stdout",
          "text": [
            "/content\n"
          ]
        }
      ]
    },
    {
      "cell_type": "code",
      "source": [
        "# There are 2 ways to open a file\n",
        "#1. open() -> close() : you need to close explicitly\n",
        "#2. with open() : automatic close\n",
        "\n",
        "file = open(\"/content/names.txt\")\n",
        "content = file.read()\n",
        "print(content)\n",
        "file.close()"
      ],
      "metadata": {
        "colab": {
          "base_uri": "https://localhost:8080/"
        },
        "id": "Z2QH6Ts26wE3",
        "outputId": "189a5121-4a0d-4d4b-f8f9-d75a2c6fe4bd"
      },
      "execution_count": null,
      "outputs": [
        {
          "output_type": "stream",
          "name": "stdout",
          "text": [
            "Manohar\n",
            "Maha \n",
            "Triveni\n",
            "Krishna\n",
            "Priya\n",
            "Saranya\n",
            "\n"
          ]
        }
      ]
    },
    {
      "cell_type": "code",
      "source": [
        "\n",
        "\n",
        "name = input(\"Please enter the name :\")\n",
        "\n",
        "with open(\"/content/names.txt\", 'w') as f:\n",
        "  content = f.write(f\"{name}\\n\")\n",
        "\n",
        "\n"
      ],
      "metadata": {
        "colab": {
          "base_uri": "https://localhost:8080/"
        },
        "id": "LEokSFOh86zz",
        "outputId": "ac8e05ce-fc85-4fa5-c871-09128eaa5f8d"
      },
      "execution_count": null,
      "outputs": [
        {
          "output_type": "stream",
          "name": "stdout",
          "text": [
            "Please enter the name :chenchu\n",
            "8\n"
          ]
        }
      ]
    },
    {
      "cell_type": "code",
      "source": [
        "# Modes\n",
        "# r : Read the file if file exist else it will be given an error\n",
        "# w : Read the file if the file exist else it will create the new one, if the file exist then the content will be overwritten\n",
        "# a : mode is used for appending to the end of the file without overwriting its existing content.\n",
        "# + : updation mode"
      ],
      "metadata": {
        "id": "IO_LHc1D-p0_"
      },
      "execution_count": null,
      "outputs": []
    },
    {
      "cell_type": "code",
      "source": [
        "\n",
        "\n",
        "name = input(\"Please enter the name :\")\n",
        "\n",
        "with open(\"/content/names.txt\", 'a') as f:\n",
        "  content = f.write(f\"{name}\\n\")"
      ],
      "metadata": {
        "colab": {
          "base_uri": "https://localhost:8080/"
        },
        "id": "PQ8og5-l_-WA",
        "outputId": "e45f24be-049a-415f-970f-c3514c66b03a"
      },
      "execution_count": null,
      "outputs": [
        {
          "name": "stdout",
          "output_type": "stream",
          "text": [
            "Please enter the name :Chenchu\n"
          ]
        }
      ]
    },
    {
      "cell_type": "code",
      "source": [
        "file = open(\"/content/names.txt\", \"w+\")\n",
        "content = file.read()\n",
        "print(content)\n"
      ],
      "metadata": {
        "colab": {
          "base_uri": "https://localhost:8080/"
        },
        "id": "3iZ4oY6KABLV",
        "outputId": "21505fcf-c6ed-493c-e833-1202e99b0378"
      },
      "execution_count": null,
      "outputs": [
        {
          "output_type": "stream",
          "name": "stdout",
          "text": [
            "\n"
          ]
        }
      ]
    },
    {
      "cell_type": "code",
      "source": [
        "!touch check.txt"
      ],
      "metadata": {
        "id": "srH5ljT2AjnE"
      },
      "execution_count": null,
      "outputs": []
    },
    {
      "cell_type": "code",
      "source": [
        "# r,w,a  :\n",
        "# w+ :  when u want something to be overwritten\n",
        "# a+ :  when u don't want to miss the previous data\n",
        "\n",
        "with open(\"/content/check.txt\", 'a+') as file:\n",
        "  file.seek(0)\n",
        "  content = file.read()\n",
        "  print(content)\n",
        "  file.write(\"I am chenchu living in vermillion\\n\")\n",
        "  file.write(\"I am chenchu living in vermillion\\n\")\n",
        "  file.write(\"I am chenchu living in vermillion\\n\")\n",
        "  file.write(\"I am chenchu living in vermillion\\n\")\n",
        "  file.seek(0) # this is used to take the current pointer position in the memory to the beginning of the file\n",
        "  print(\"*********\")\n",
        "  content = file.read()\n",
        "  print(content)\n",
        "\n",
        "\n"
      ],
      "metadata": {
        "colab": {
          "base_uri": "https://localhost:8080/"
        },
        "id": "hzHloTuWBhms",
        "outputId": "8b04da72-d708-47c9-bc8f-6fdbe8928ac4"
      },
      "execution_count": null,
      "outputs": [
        {
          "output_type": "stream",
          "name": "stdout",
          "text": [
            "I am chenchu living in vermillion\n",
            "I am chenchu living in vermillion\n",
            "I am chenchu living in vermillion\n",
            "I am chenchu living in vermillion\n",
            "I am chenchu living in vermillion\n",
            "I am chenchu living in vermillion\n",
            "I am chenchu living in vermillion\n",
            "I am chenchu living in vermillion\n",
            "I am chenchu living in vermillion\n",
            "I am chenchu living in vermillion\n",
            "I am chenchu living in vermillion\n",
            "I am chenchu living in vermillion\n",
            "I am chenchu living in vermillion\n",
            "I am chenchu living in vermillion\n",
            "I am chenchu living in vermillion\n",
            "\n",
            "*********\n",
            "I am chenchu living in vermillion\n",
            "I am chenchu living in vermillion\n",
            "I am chenchu living in vermillion\n",
            "I am chenchu living in vermillion\n",
            "I am chenchu living in vermillion\n",
            "I am chenchu living in vermillion\n",
            "I am chenchu living in vermillion\n",
            "I am chenchu living in vermillion\n",
            "I am chenchu living in vermillion\n",
            "I am chenchu living in vermillion\n",
            "I am chenchu living in vermillion\n",
            "I am chenchu living in vermillion\n",
            "I am chenchu living in vermillion\n",
            "I am chenchu living in vermillion\n",
            "I am chenchu living in vermillion\n",
            "I am chenchu living in vermillion\n",
            "I am chenchu living in vermillion\n",
            "I am chenchu living in vermillion\n",
            "I am chenchu living in vermillion\n",
            "\n"
          ]
        }
      ]
    },
    {
      "cell_type": "code",
      "source": [
        "with open(\"check.txt\", 'r') as file:\n",
        "  content = file.read() # read() : reads entire file\n",
        "  print(content)"
      ],
      "metadata": {
        "colab": {
          "base_uri": "https://localhost:8080/"
        },
        "id": "GowHPF6IC6S8",
        "outputId": "cca63deb-b368-4a03-f391-eb382561224a"
      },
      "execution_count": null,
      "outputs": [
        {
          "output_type": "stream",
          "name": "stdout",
          "text": [
            "I am chenchu living in vermillion\n",
            "I am chenchu living in vermillion\n",
            "I am chenchu living in vermillion\n",
            "I am chenchu living in vermillion\n",
            "I am chenchu living in vermillion\n",
            "I am chenchu living in vermillion\n",
            "I am chenchu living in vermillion\n",
            "\n"
          ]
        }
      ]
    },
    {
      "cell_type": "code",
      "source": [
        "with open(\"check.txt\", 'r') as file:\n",
        "  content = file.readline() # readline() : reads one line at a time\n",
        "  print(content)\n",
        "  content = file.readline()\n",
        "  print(content)\n",
        "  print(type(content))\n",
        "  print(content[3])\n",
        "  print(len(content))\n",
        "  file.seek(0)\n",
        "  content = file.readline()\n",
        "  print(content)\n"
      ],
      "metadata": {
        "colab": {
          "base_uri": "https://localhost:8080/"
        },
        "id": "Y_FZjuRZGUHb",
        "outputId": "47921abd-4d1c-47cb-a554-4bf7a4ef0297"
      },
      "execution_count": null,
      "outputs": [
        {
          "output_type": "stream",
          "name": "stdout",
          "text": [
            "I am chenchu living in vermillion 1\n",
            "\n",
            "I am chenchu living in vermillion 2\n",
            "\n",
            "<class 'str'>\n",
            "m\n",
            "36\n",
            "I am chenchu living in vermillion 1\n",
            "\n"
          ]
        }
      ]
    },
    {
      "cell_type": "code",
      "source": [
        "with open(\"check.txt\", 'r') as file:\n",
        "  content = file.readlines() # readlines() : reads all lines one by one and return as a list\n",
        "  print(content)\n",
        "  print(type(content))\n",
        "  print(content[-1])"
      ],
      "metadata": {
        "colab": {
          "base_uri": "https://localhost:8080/"
        },
        "id": "QK8jaa6mGdq5",
        "outputId": "0bc75f79-72af-470d-9a46-4700f77c7ce6"
      },
      "execution_count": null,
      "outputs": [
        {
          "output_type": "stream",
          "name": "stdout",
          "text": [
            "['I am chenchu living in vermillion\\n', 'I am chenchu living in vermillion\\n', 'I am chenchu living in vermillion\\n', 'I am chenchu living in vermillion\\n', 'I am chenchu living in vermillion\\n', 'I am chenchu living in vermillion\\n', 'I am chenchu living in vermillion came from india\\n']\n",
            "<class 'list'>\n",
            "I am chenchu living in vermillion came from india\n",
            "\n"
          ]
        }
      ]
    },
    {
      "cell_type": "code",
      "source": [
        "\"\"\"\n",
        "Opening types: with opne , open and close\n",
        "modes : r, w, a, +, w+, r+, a+\n",
        "reading methods : read(), readline(), readline()\n",
        "seek(0)\n",
        "\"\"\"\n"
      ],
      "metadata": {
        "id": "5BBA0AAyGhX6"
      },
      "execution_count": null,
      "outputs": []
    },
    {
      "cell_type": "markdown",
      "source": [
        "#### ERROR HANDLING"
      ],
      "metadata": {
        "id": "rLmJX0fFJpgq"
      }
    },
    {
      "cell_type": "code",
      "source": [
        "# loops, functions, any other block of codes, if you want certain tasks to be done, in the way in certain conditions some information to passed\n",
        "# then we can use error handling just like break and continue"
      ],
      "metadata": {
        "id": "JFqvlBFKJrpr"
      },
      "execution_count": null,
      "outputs": []
    },
    {
      "cell_type": "code",
      "source": [
        "# try :\n",
        "# except\n",
        "# else\n",
        "# finally\n",
        "# raise\n",
        "\n",
        "try:\n",
        "  x = int(input(\"Enter the value of x :\"))\n",
        "\n",
        "except:\n",
        "  print(\"The given number in not int\")\n",
        "\n",
        "\n",
        "\n"
      ],
      "metadata": {
        "colab": {
          "base_uri": "https://localhost:8080/"
        },
        "id": "hCrITd0DJ6E5",
        "outputId": "e4acdcd0-6762-4135-cc6d-1cab9e7570cc"
      },
      "execution_count": null,
      "outputs": [
        {
          "output_type": "stream",
          "name": "stdout",
          "text": [
            "The given number in not int\n"
          ]
        }
      ]
    },
    {
      "cell_type": "code",
      "source": [
        "try:\n",
        "  r = 10/0\n",
        "\n",
        "except ZeroDivisionError as e:\n",
        "  print(f\"The issue is coming because it has {e} issue\")"
      ],
      "metadata": {
        "colab": {
          "base_uri": "https://localhost:8080/"
        },
        "id": "EJ4RXYA4KebR",
        "outputId": "32e9adbc-2ffe-4e99-e9a0-c31c4ef65dbe"
      },
      "execution_count": null,
      "outputs": [
        {
          "output_type": "stream",
          "name": "stdout",
          "text": [
            "The issue is coming because it has division by zero issue\n"
          ]
        }
      ]
    },
    {
      "cell_type": "code",
      "source": [
        "try:\n",
        "  list1 = [10, 100, 20, 0, 'Hello', 4]\n",
        "\n",
        "  for val in list1:\n",
        "    print(10/val)\n",
        "\n",
        "except ZeroDivisionError as e:\n",
        "  print(f\"Exception : {e}\")\n",
        "except TypeError as e:\n",
        "  print(f\"Exception : {e}\")\n"
      ],
      "metadata": {
        "colab": {
          "base_uri": "https://localhost:8080/"
        },
        "id": "6kf37o7SLl2_",
        "outputId": "ff357de6-fbff-41b4-c02a-f0d814fbd181"
      },
      "execution_count": null,
      "outputs": [
        {
          "output_type": "stream",
          "name": "stdout",
          "text": [
            "1.0\n",
            "0.1\n",
            "0.5\n",
            "Exception : division by zero\n"
          ]
        }
      ]
    },
    {
      "cell_type": "code",
      "source": [
        "list1 = [10, 100, 20, 0, 'Hello', 4]\n",
        "\n",
        "for val in list1:\n",
        "    try:\n",
        "        # Try to perform division and catch specific exceptions\n",
        "        print(10/val)\n",
        "        print(list1[7])\n",
        "\n",
        "    except (ZeroDivisionError, TypeError, IndexError) as e:\n",
        "        print(f\"The issue is: {e}\")\n",
        "        continue  # Skip to the next iteration for division by zero\n"
      ],
      "metadata": {
        "colab": {
          "base_uri": "https://localhost:8080/"
        },
        "id": "xAcDx69IM1mn",
        "outputId": "afa722ef-c076-4e4f-e048-16ad20741311"
      },
      "execution_count": null,
      "outputs": [
        {
          "output_type": "stream",
          "name": "stdout",
          "text": [
            "1.0\n",
            "The issue is: list index out of range\n",
            "0.1\n",
            "The issue is: list index out of range\n",
            "0.5\n",
            "The issue is: list index out of range\n",
            "The issue is: division by zero\n",
            "The issue is: unsupported operand type(s) for /: 'int' and 'str'\n",
            "2.5\n",
            "The issue is: list index out of range\n"
          ]
        }
      ]
    },
    {
      "cell_type": "code",
      "source": [
        "try: # your condition or task\n",
        "  print(10/2)\n",
        "except ZeroDivisionError: # your error checking if error is there then this block will be printed\n",
        "  print(\"Can not devide by 0\")\n",
        "else: # if error is not there then this block will be printed along with the try block\n",
        "  print(\"No exceptions occured\")"
      ],
      "metadata": {
        "colab": {
          "base_uri": "https://localhost:8080/"
        },
        "id": "ui0qeOQIOB7X",
        "outputId": "0c1d85be-aee2-4e06-84f2-efbbf1ba94cb"
      },
      "execution_count": null,
      "outputs": [
        {
          "output_type": "stream",
          "name": "stdout",
          "text": [
            "5.0\n",
            "No exceptions occured\n"
          ]
        }
      ]
    },
    {
      "cell_type": "code",
      "source": [
        "try: # your condition or task\n",
        "  print(10/0)\n",
        "except ZeroDivisionError: # your error checking if error is there then this block will be printed\n",
        "  print(\"Can not devide by 0\")\n",
        "else: # if error is not there then this block will be executed along with the try block\n",
        "  print(\"No exceptions occured\")"
      ],
      "metadata": {
        "colab": {
          "base_uri": "https://localhost:8080/"
        },
        "id": "EoGzNDhuQBKX",
        "outputId": "d17fa32d-5c53-4eba-84a7-b59b89c664cb"
      },
      "execution_count": null,
      "outputs": [
        {
          "output_type": "stream",
          "name": "stdout",
          "text": [
            "Can not devide by 0\n"
          ]
        }
      ]
    },
    {
      "cell_type": "code",
      "source": [
        "# finally  : No mattter what is the issue, it will always print in your all programs\n",
        "try: # your condition or task\n",
        "  print(10/0)\n",
        "except ZeroDivisionError: # your error checking if error is there then this block will be printed\n",
        "  print(\"Can not devide by 0\")\n",
        "else: # if error is not there then this block will be executed along with the try block\n",
        "  print(\"No exceptions occured\")\n",
        "finally: # No mattter what is the issue, it will always print in your all programs\n",
        "  print(\"This is finally block\")"
      ],
      "metadata": {
        "colab": {
          "base_uri": "https://localhost:8080/"
        },
        "id": "qKk6GpVhQEcV",
        "outputId": "bea0454f-e340-4756-b5e0-a4b5809f1457"
      },
      "execution_count": null,
      "outputs": [
        {
          "output_type": "stream",
          "name": "stdout",
          "text": [
            "Can not devide by 0\n",
            "This is finally block\n"
          ]
        }
      ]
    },
    {
      "cell_type": "code",
      "source": [
        "# finally  : No mattter what is the issue, it will always print in your all programs\n",
        "try: # your condition or task\n",
        "  print(10/\"Hello\")\n",
        "except ZeroDivisionError: # your error checking if error is there then this block will be printed\n",
        "  print(\"Can not devide by 0\")\n",
        "except TypeError:\n",
        "  print(\"Can not devide by Strings\")\n",
        "else: # if error is not there then this block will be executed along with the try block\n",
        "  print(\"No exceptions occured\")\n",
        "finally: # No mattter what is the issue, it will always print in your all programs\n",
        "  print(\"This is finally block\")"
      ],
      "metadata": {
        "colab": {
          "base_uri": "https://localhost:8080/"
        },
        "id": "4Y2nDYj9Qe_Q",
        "outputId": "1d486354-c44d-4b1d-9632-3681f6fc5cdc"
      },
      "execution_count": null,
      "outputs": [
        {
          "output_type": "stream",
          "name": "stdout",
          "text": [
            "Can not devide by Strings\n",
            "This is finally block\n"
          ]
        }
      ]
    },
    {
      "cell_type": "code",
      "source": [
        "# finally  : No mattter what is the issue, it will always print in your all programs\n",
        "try: # your condition or task\n",
        "  print(10/5)\n",
        "except ZeroDivisionError: # your error checking if error is there then this block will be printed\n",
        "  print(\"Can not devide by 0\")\n",
        "except TypeError:\n",
        "  print(\"Can not devide by Strings\")\n",
        "else: # if error is not there then this block will be executed along with the try block\n",
        "  print(\"No exceptions occured\")\n",
        "finally: # No mattter what is the issue, it will always print in your all programs\n",
        "  print(\"This is finally block\")"
      ],
      "metadata": {
        "colab": {
          "base_uri": "https://localhost:8080/"
        },
        "id": "LmNmWLEiQl7a",
        "outputId": "232c7ac0-d28f-4b99-e1d0-0cdb4bb2a7db"
      },
      "execution_count": null,
      "outputs": [
        {
          "output_type": "stream",
          "name": "stdout",
          "text": [
            "2.0\n",
            "No exceptions occured\n",
            "This is finally block\n"
          ]
        }
      ]
    },
    {
      "cell_type": "code",
      "source": [
        "try:\n",
        "  x = int(input(\"Please enter the value : \"))\n",
        "  if x <= 0:\n",
        "    raise Exception(\"Sorry the number is below 0\")\n",
        "except Exception as e:\n",
        "  print(e)"
      ],
      "metadata": {
        "colab": {
          "base_uri": "https://localhost:8080/"
        },
        "id": "Ek1zblaSRHJx",
        "outputId": "a325f7ca-ece2-4309-def6-c89b5443b42f"
      },
      "execution_count": null,
      "outputs": [
        {
          "output_type": "stream",
          "name": "stdout",
          "text": [
            "Please enter the value : -10\n",
            "Sorry the number is below 0\n"
          ]
        }
      ]
    },
    {
      "cell_type": "markdown",
      "source": [
        "#### Modules"
      ],
      "metadata": {
        "id": "yXFhKOY6TJ7f"
      }
    },
    {
      "cell_type": "code",
      "source": [
        "!touch student.py"
      ],
      "metadata": {
        "id": "yV95UvMKSyDb"
      },
      "execution_count": null,
      "outputs": []
    },
    {
      "cell_type": "code",
      "source": [
        "!pip install numpy\n",
        "!pip install student"
      ],
      "metadata": {
        "colab": {
          "base_uri": "https://localhost:8080/"
        },
        "id": "e4U8Pu3VTUke",
        "outputId": "3a0464a6-3713-43fb-cab9-4b12b347f249"
      },
      "execution_count": null,
      "outputs": [
        {
          "output_type": "stream",
          "name": "stdout",
          "text": [
            "Requirement already satisfied: numpy in /usr/local/lib/python3.10/dist-packages (1.25.2)\n"
          ]
        }
      ]
    },
    {
      "cell_type": "code",
      "source": [
        "!pwd"
      ],
      "metadata": {
        "colab": {
          "base_uri": "https://localhost:8080/"
        },
        "id": "zprOnmafUCA2",
        "outputId": "dd674f6f-08b3-4cef-8e9f-6ae1c8d9c17c"
      },
      "execution_count": null,
      "outputs": [
        {
          "output_type": "stream",
          "name": "stdout",
          "text": [
            "/content\n"
          ]
        }
      ]
    },
    {
      "cell_type": "code",
      "source": [
        "!ls"
      ],
      "metadata": {
        "colab": {
          "base_uri": "https://localhost:8080/"
        },
        "id": "h7bEXHjmUDth",
        "outputId": "7fc20ce6-ddd7-4ae3-e88f-20aba67c92fa"
      },
      "execution_count": null,
      "outputs": [
        {
          "output_type": "stream",
          "name": "stdout",
          "text": [
            "check.txt  names.txt  __pycache__  sample_data\tstudent.py\n"
          ]
        }
      ]
    },
    {
      "cell_type": "code",
      "source": [
        "from student import Student\n",
        "import numpy as np\n",
        "import matplotlib.pyplot as plt\n",
        "\n",
        "s2 = Student(\"Chenchu\", 25, \"A\")\n",
        "print(s2.name)\n",
        "print(s2.age)\n",
        "print(s2.grade)\n",
        "s2.display_info()"
      ],
      "metadata": {
        "colab": {
          "base_uri": "https://localhost:8080/"
        },
        "id": "pyuEAyEHS12t",
        "outputId": "b51075e1-8c14-49cf-dce1-aa7852e78ea2"
      },
      "execution_count": null,
      "outputs": [
        {
          "output_type": "stream",
          "name": "stdout",
          "text": [
            "Chenchu\n",
            "25\n",
            "A\n",
            "Name: Chenchu\n",
            "Age: 25\n",
            "Grade: A\n"
          ]
        }
      ]
    },
    {
      "cell_type": "markdown",
      "source": [
        "    ******************************END OF THE CRASH COURSE***********************"
      ],
      "metadata": {
        "id": "pl3Aj-7t55Qg"
      }
    }
  ]
}