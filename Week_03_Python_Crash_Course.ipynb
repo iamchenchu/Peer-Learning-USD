{
  "nbformat": 4,
  "nbformat_minor": 0,
  "metadata": {
    "colab": {
      "provenance": [],
      "authorship_tag": "ABX9TyOHdivleGa3F5S6IfsiZ6oI",
      "include_colab_link": true
    },
    "kernelspec": {
      "name": "python3",
      "display_name": "Python 3"
    },
    "language_info": {
      "name": "python"
    }
  },
  "cells": [
    {
      "cell_type": "markdown",
      "metadata": {
        "id": "view-in-github",
        "colab_type": "text"
      },
      "source": [
        "<a href=\"https://colab.research.google.com/github/iamchenchu/Peer-Learning-USD/blob/main/Week_03_Python_Crash_Course.ipynb\" target=\"_parent\"><img src=\"https://colab.research.google.com/assets/colab-badge.svg\" alt=\"Open In Colab\"/></a>"
      ]
    },
    {
      "cell_type": "markdown",
      "source": [
        "##### So far covered Syllabus\n",
        "  0. Basics of python and memory representation\n",
        "  1. Variables and Data Types\n",
        "  2. Data Structures : `list, tuple, set, dictionary`\n",
        "  3. Operators\n",
        "  4. Type Casting\n",
        "  5. Inputs from the user\n",
        "  6. Conditionals : `If, else, elif`\n",
        "  7. Functions : `InBuilt, User Defined`\n",
        "\n"
      ],
      "metadata": {
        "id": "aPsOGUgrRrWB"
      }
    },
    {
      "cell_type": "markdown",
      "source": [
        "##### Week 3 : Expected Syllabus\n",
        "\n",
        "  1. Loops : `While, For`\n",
        "  2. Object Oriented Programming\n",
        "    1. Classes\n",
        "    2. Objects\n",
        "    3. Absstraction\n",
        "    4. Encapsulation\n",
        "    5. Inheritance and types\n",
        "    6. Polymorphism"
      ],
      "metadata": {
        "id": "3YD1_F4jSFeU"
      }
    },
    {
      "cell_type": "code",
      "source": [
        "# While loop Basic\n",
        "\n",
        "i = 1\n",
        "\n",
        "while i <= 10:\n",
        "  print(i)\n",
        "  i = i +1\n"
      ],
      "metadata": {
        "colab": {
          "base_uri": "https://localhost:8080/"
        },
        "id": "UI0ZZ2PxtdVK",
        "outputId": "c59e980a-7625-4126-d3f8-b35fc1c57af1"
      },
      "execution_count": null,
      "outputs": [
        {
          "output_type": "stream",
          "name": "stdout",
          "text": [
            "1\n",
            "2\n",
            "3\n",
            "4\n",
            "5\n",
            "6\n",
            "7\n",
            "8\n",
            "9\n",
            "10\n"
          ]
        }
      ]
    },
    {
      "cell_type": "code",
      "source": [
        "# While loop with break\n",
        "\n",
        "product_price = int(input(\"Please enter the price : \"))\n",
        "nums =1\n",
        "while nums <= 10:\n",
        "  if product_price >= 500:\n",
        "    break\n",
        "  else :\n",
        "    print(f\"The product price is {product_price}, now the iteration no : {nums}\")\n",
        "  nums += 2\n",
        "\n"
      ],
      "metadata": {
        "colab": {
          "base_uri": "https://localhost:8080/"
        },
        "id": "9ejCTvOmtrTd",
        "outputId": "61d2315c-5b06-4f53-d99b-fb288b71997f"
      },
      "execution_count": null,
      "outputs": [
        {
          "output_type": "stream",
          "name": "stdout",
          "text": [
            "Please enter the price : 100\n",
            "The product price is 100, now the iteration no : 1\n",
            "The product price is 100, now the iteration no : 3\n",
            "The product price is 100, now the iteration no : 5\n",
            "The product price is 100, now the iteration no : 7\n",
            "The product price is 100, now the iteration no : 9\n"
          ]
        }
      ]
    },
    {
      "cell_type": "code",
      "source": [
        "# While loop with continue\n",
        "\n",
        "product_price = int(input(\"Please enter the price : \"))\n",
        "nums =1\n",
        "while nums <= 10:\n",
        "  if nums == 5:\n",
        "    nums += 1\n",
        "    continue\n",
        "  else :\n",
        "    print(f\"The product price is {product_price}, now the iteration no : {nums}\")\n",
        "  nums += 2\n",
        "\n"
      ],
      "metadata": {
        "colab": {
          "base_uri": "https://localhost:8080/"
        },
        "id": "_HWJdsh_vcsO",
        "outputId": "e7f0fb57-20bb-426f-f668-ae7f4e612a60"
      },
      "execution_count": null,
      "outputs": [
        {
          "output_type": "stream",
          "name": "stdout",
          "text": [
            "Please enter the price : 123\n",
            "The product price is 123, now the iteration no : 1\n",
            "The product price is 123, now the iteration no : 3\n",
            "The product price is 123, now the iteration no : 6\n",
            "The product price is 123, now the iteration no : 8\n",
            "The product price is 123, now the iteration no : 10\n"
          ]
        }
      ]
    },
    {
      "cell_type": "code",
      "source": [
        "# For Loop\n",
        "\n",
        "list1 = [10, 20, 30, 40, 50, 60]\n",
        "names = (\"Manohar\", \"Chenchu\", \"Ram\", \"Bheem\", \"Krishna\")\n",
        "\n",
        "for _ in list1:\n",
        "  print(_,end='  ')\n",
        "\n",
        "for _ in names:\n",
        "  print(_,end='  ')"
      ],
      "metadata": {
        "colab": {
          "base_uri": "https://localhost:8080/"
        },
        "id": "8GKJwmD2wOEO",
        "outputId": "cc6c0b86-636c-4f1a-a98d-2a56cbb9764c"
      },
      "execution_count": null,
      "outputs": [
        {
          "output_type": "stream",
          "name": "stdout",
          "text": [
            "10  20  30  40  50  60  Manohar  Chenchu  Ram  Bheem  Krishna  "
          ]
        }
      ]
    },
    {
      "cell_type": "code",
      "source": [
        "# range(start=0,end=n, step=1)\n",
        "for num in range(10):\n",
        "  print(num)\n",
        "\n",
        "print(\"The length of the defined list is :\",len(list1))"
      ],
      "metadata": {
        "colab": {
          "base_uri": "https://localhost:8080/"
        },
        "id": "ZSge8g1_yTJ4",
        "outputId": "a12bdb2d-cc81-449b-fc05-110a3a005971"
      },
      "execution_count": null,
      "outputs": [
        {
          "output_type": "stream",
          "name": "stdout",
          "text": [
            "0\n",
            "1\n",
            "2\n",
            "3\n",
            "4\n",
            "5\n",
            "6\n",
            "7\n",
            "8\n",
            "9\n",
            "The length of the defined list is : 6\n"
          ]
        }
      ]
    },
    {
      "cell_type": "code",
      "source": [
        "#range with for loop\n",
        "#6\n",
        "for val in range(len(list1)):\n",
        "  #print(val)\n",
        "  print(\"Iteration no :\",val,\":\",list1[val])\n",
        "\n"
      ],
      "metadata": {
        "colab": {
          "base_uri": "https://localhost:8080/"
        },
        "id": "pqhLHLJfxLk_",
        "outputId": "e3785a66-79bf-428c-ea3d-7621bc816438"
      },
      "execution_count": null,
      "outputs": [
        {
          "output_type": "stream",
          "name": "stdout",
          "text": [
            "Iteration no : 0 : 10\n",
            "Iteration no : 1 : 20\n",
            "Iteration no : 2 : 30\n",
            "Iteration no : 3 : 40\n",
            "Iteration no : 4 : 50\n",
            "Iteration no : 5 : 60\n"
          ]
        }
      ]
    },
    {
      "cell_type": "code",
      "source": [
        "# For loop using break\n",
        "\n",
        "names1 = (\"Manohar\", \"Chenchu\", \"Ram\", \"Bheem\", \"Krishna\")\n",
        "\n",
        "for name in names1:\n",
        "  if name == \"Ram\":\n",
        "    break\n",
        "  else:\n",
        "    print(name)\n"
      ],
      "metadata": {
        "colab": {
          "base_uri": "https://localhost:8080/"
        },
        "id": "aKl9CZaPxkpv",
        "outputId": "2974e548-7a1f-4ec4-9112-6fe4cf3e3429"
      },
      "execution_count": null,
      "outputs": [
        {
          "output_type": "stream",
          "name": "stdout",
          "text": [
            "Manohar\n",
            "Chenchu\n"
          ]
        }
      ]
    },
    {
      "cell_type": "code",
      "source": [
        "names2 = (\"Manohar\", \"Chenchu\", \"Ram\", \"Bheem\", \"Krishna\") # 5\n",
        "for val in range(len(names2)):\n",
        "  if names2[val] == \"Ram\":\n",
        "    val += 1 # this step is too important in the continue statement\n",
        "    continue\n",
        "  else:\n",
        "    print(names2[val])"
      ],
      "metadata": {
        "colab": {
          "base_uri": "https://localhost:8080/"
        },
        "id": "sChymT4a0HcX",
        "outputId": "329192ca-9312-4071-f505-e0bad2daf14c"
      },
      "execution_count": null,
      "outputs": [
        {
          "output_type": "stream",
          "name": "stdout",
          "text": [
            "Manohar\n",
            "Chenchu\n",
            "Bheem\n",
            "Krishna\n"
          ]
        }
      ]
    },
    {
      "cell_type": "code",
      "source": [
        "names2 = (\"Manohar\", \"Chenchu\", \"Ram\", \"Bheem\", \"Krishna\") # 5\n",
        "for name in names2:\n",
        "  if name == \"Ram\":\n",
        "    continue\n",
        "  else:\n",
        "    print(name)"
      ],
      "metadata": {
        "colab": {
          "base_uri": "https://localhost:8080/"
        },
        "id": "lcAs0JBx1JB8",
        "outputId": "3a4adbbc-aafa-4db7-e0a1-b468108c2374"
      },
      "execution_count": null,
      "outputs": [
        {
          "output_type": "stream",
          "name": "stdout",
          "text": [
            "Manohar\n",
            "Chenchu\n",
            "Bheem\n",
            "Krishna\n"
          ]
        }
      ]
    },
    {
      "cell_type": "markdown",
      "source": [
        "#### Object Oriented Programming\n",
        "  1. Classes\n",
        "  2. Objects\n",
        "  3. Absstraction\n",
        "  4. Encapsulation\n",
        "  5. Inheritance and types\n",
        "  6. Polymorphism"
      ],
      "metadata": {
        "id": "SkrRrMNp13i9"
      }
    },
    {
      "cell_type": "code",
      "source": [],
      "metadata": {
        "id": "RXht2nxN4ghv"
      },
      "execution_count": null,
      "outputs": []
    },
    {
      "cell_type": "code",
      "source": [
        "# Basic Class\n",
        "class Student:\n",
        "  name = \"Maha\" # class attributes\n",
        "  age = 28\n",
        "  univ = \"USD\"\n",
        "\n",
        "s1 = Student() # Now we have created an example of the blue print\n",
        "print(s1.name)\n",
        "print(s1.age)\n",
        "print(s1.univ)\n",
        "\n",
        "s2 = Student() # Now 2nd example created\n",
        "print(s2.name)\n",
        "print(s2.age)\n",
        "print(s2.univ)"
      ],
      "metadata": {
        "colab": {
          "base_uri": "https://localhost:8080/"
        },
        "id": "b7VJ1P9F1sy7",
        "outputId": "ac14a687-e23a-4ae1-8f36-61c86f069051"
      },
      "execution_count": null,
      "outputs": [
        {
          "output_type": "stream",
          "name": "stdout",
          "text": [
            "Maha\n",
            "28\n",
            "USD\n",
            "Maha\n",
            "28\n",
            "USD\n"
          ]
        }
      ]
    },
    {
      "cell_type": "code",
      "source": [
        "# To create different object attributes I will use constructor\n",
        "\n",
        "class Students:\n",
        "  univ = \"USD\"\n",
        "  depart =\"CSE\"\n",
        "\n",
        "  # Initializing the constructor\n",
        "  def __init__(self,name, age,dob):\n",
        "    print(self)\n",
        "    self.name = name # Task1\n",
        "    self.age = age\n",
        "    self.dob = dob\n",
        "    print(\"Adding the details\")\n",
        "    print(\"I am learning python\")\n",
        "\n",
        "  def hello(self):\n",
        "    print(f\"Hello {self.name}\")\n",
        "\n",
        "\n",
        "s1 = Students(\"Triveni\", 25, \"Feb\")\n",
        "#print(s1.name, s1.age, s1.dob, s1.univ, s1.depart)\n",
        "s2 = Students(\"Manohar\", 30, \"June\")\n",
        "s3 = Students(\"Maha\",26, \"Dec\")\n",
        "\n",
        "s1.hello()\n",
        "\n",
        "print(s1.univ, s2.univ, s3.univ)\n",
        "print(s1.depart, s2.depart, s3.depart)\n",
        "\n"
      ],
      "metadata": {
        "colab": {
          "base_uri": "https://localhost:8080/"
        },
        "id": "4PW59C2x46EL",
        "outputId": "061a7521-2d9e-485c-8fa6-e8749e5c3bad"
      },
      "execution_count": null,
      "outputs": [
        {
          "output_type": "stream",
          "name": "stdout",
          "text": [
            "<__main__.Students object at 0x7b598fd02bf0>\n",
            "Adding the details\n",
            "I am learning python\n",
            "<__main__.Students object at 0x7b598fd011b0>\n",
            "Adding the details\n",
            "I am learning python\n",
            "<__main__.Students object at 0x7b598fd02f80>\n",
            "Adding the details\n",
            "I am learning python\n",
            "Hello Triveni\n",
            "USD USD USD\n",
            "CSE CSE CSE\n"
          ]
        }
      ]
    },
    {
      "cell_type": "code",
      "source": [
        "class Demo:\n",
        "  univ = \"IIT\"\n",
        "\n",
        "  def __init__(self, n):\n",
        "    self.n = n\n",
        "    print(\"Object created\")\n",
        "\n",
        "n = input()\n",
        "d1 = Demo(n)\n",
        "d2 = Demo(n)\n",
        "print(d1.n, d2.n)"
      ],
      "metadata": {
        "colab": {
          "base_uri": "https://localhost:8080/"
        },
        "id": "9cE_Afom63e6",
        "outputId": "e5ba35c5-aa4e-4489-c9bc-6dac43f50c86"
      },
      "execution_count": null,
      "outputs": [
        {
          "output_type": "stream",
          "name": "stdout",
          "text": [
            "Manohar\n",
            "Object created\n",
            "Object created\n",
            "Manohar Manohar\n"
          ]
        }
      ]
    },
    {
      "cell_type": "code",
      "source": [
        "# SUNDAY\n",
        "\n",
        "# SAMPLE CODE\n",
        "class Car:\n",
        "  no_of_Tyres = \"Four\"     # Class Attributes, Variables\n",
        "  no_of_Stearings = \"One\"\n",
        "\n",
        "  def __init__(self, name):\n",
        "    self.name = name       # Object Attributes\n",
        "    print(self)\n",
        "\n",
        "car1 = Car(\"Suziki\")\n",
        "print(car1.no_of_Tyres)\n",
        "print(car1.no_of_Stearings)\n",
        "print(car1.name)\n",
        "\n",
        "\n"
      ],
      "metadata": {
        "id": "Zh4HC7tHBfij",
        "colab": {
          "base_uri": "https://localhost:8080/"
        },
        "outputId": "9c6118f8-a438-44bc-e3e3-c38cd77eec2c"
      },
      "execution_count": 5,
      "outputs": [
        {
          "output_type": "stream",
          "name": "stdout",
          "text": [
            "<__main__.Car object at 0x78d22c7270a0>\n",
            "Four\n",
            "One\n",
            "Suziki\n"
          ]
        }
      ]
    },
    {
      "cell_type": "code",
      "source": [
        "\n",
        "class Cars:\n",
        "  no_of_Tyres = \"Four\"     # Class Attributes, Variables\n",
        "  no_of_Stearings = \"One\"\n",
        "  def __init__(self):\n",
        "    print(self)\n",
        "\n",
        "car1 = Cars()\n",
        "print(car1)\n",
        "print(car1.no_of_Tyres)\n",
        "print(car1.no_of_Stearings)\n"
      ],
      "metadata": {
        "colab": {
          "base_uri": "https://localhost:8080/"
        },
        "id": "gJU-IftRz_U5",
        "outputId": "43935d19-cc71-4be4-9579-e1fd099ee589"
      },
      "execution_count": 7,
      "outputs": [
        {
          "output_type": "stream",
          "name": "stdout",
          "text": [
            "<__main__.Cars object at 0x78d23ce17f40>\n",
            "<__main__.Cars object at 0x78d23ce17f40>\n",
            "Four\n",
            "One\n"
          ]
        }
      ]
    },
    {
      "cell_type": "code",
      "source": [
        "class Organization:\n",
        "  name_of_Campany = \"Triveni Consultancy Services\"\n",
        "  department = \"Finance\"\n",
        "\n",
        "  def __init__(self, name=\"No Name\", id=\"0000\", salary=0):\n",
        "    self.name = name\n",
        "    self.id = id\n",
        "    self.salary = salary\n",
        "\n",
        "emp1 = Organization(\"SivaPriya\",\"0002\", 9999)\n",
        "\n",
        "print(emp1) # Should print the address of the object in the memory\n",
        "print(\"The company name is :\", emp1.name_of_Campany)\n",
        "print(\"The Department  is :\", emp1.department)\n",
        "print(\"Employee name is :\", emp1.name)\n",
        "print(\"Employee ID :\", emp1.id)\n",
        "print(\"Employee Salary :\", emp1.salary)\n",
        "\n"
      ],
      "metadata": {
        "colab": {
          "base_uri": "https://localhost:8080/"
        },
        "id": "bXYZkdVo2WfG",
        "outputId": "3e3839b8-2e91-49e1-8d4d-be7896369892"
      },
      "execution_count": 10,
      "outputs": [
        {
          "output_type": "stream",
          "name": "stdout",
          "text": [
            "<__main__.Organization object at 0x78d22c725f60>\n",
            "The company name is : Triveni Consultancy Services\n",
            "The Department  is : Finance\n",
            "Employee name is : SivaPriya\n",
            "Employee ID : 0002\n",
            "Employee Salary : 9999\n"
          ]
        }
      ]
    },
    {
      "cell_type": "code",
      "source": [
        "# Class Methods\n",
        "\n",
        "class Organization:\n",
        "  name_of_Campany = \"Triveni Consultancy Services\"\n",
        "  department = \"Finance\"\n",
        "\n",
        "  def __init__(self, name=\"No Name\", id=\"0000\", salary=0):\n",
        "    self.name = name\n",
        "    self.id = id\n",
        "    self.salary = salary\n",
        "\n",
        "  def employee_Details(self):  # Class method\n",
        "    print(\"The company name is :\", self.name_of_Campany)\n",
        "    print(\"The Department  is :\", self.department)\n",
        "    print(\"Employee name is :\", self.name)\n",
        "    print(\"Employee ID :\", self.id)\n",
        "    print(\"Employee Salary :\", self.salary)\n",
        "\n",
        "\n",
        "emp1 = Organization(\"SivaPriya\",\"0002\", 9999)\n",
        "emp2 = Organization(\"Sailaja\",\"0003\", 9999)\n",
        "emp3 = Organization()\n",
        "\n",
        "print(emp1) # Should print the address of the object in the memory\n",
        "\n",
        "# print(\"The company name is :\", emp1.name_of_Campany)\n",
        "# print(\"The Department  is :\", emp1.department)\n",
        "# print(\"Employee name is :\", emp1.name)\n",
        "# print(\"Employee ID :\", emp1.id)\n",
        "# print(\"Employee Salary :\", emp1.salary)\n",
        "\n",
        "emp1.employee_Details() # calling the class methods\n",
        "emp2.employee_Details()\n",
        "emp3.employee_Details()"
      ],
      "metadata": {
        "colab": {
          "base_uri": "https://localhost:8080/"
        },
        "id": "HqUNV1Nd4oXu",
        "outputId": "e0c590fd-453b-4226-96c6-761da58ff44e"
      },
      "execution_count": 14,
      "outputs": [
        {
          "output_type": "stream",
          "name": "stdout",
          "text": [
            "<__main__.Organization object at 0x78d23ce15060>\n",
            "The company name is : Triveni Consultancy Services\n",
            "The Department  is : Finance\n",
            "Employee name is : SivaPriya\n",
            "Employee ID : 0002\n",
            "Employee Salary : 9999\n",
            "The company name is : Triveni Consultancy Services\n",
            "The Department  is : Finance\n",
            "Employee name is : Sailaja\n",
            "Employee ID : 0003\n",
            "Employee Salary : 9999\n",
            "The company name is : Triveni Consultancy Services\n",
            "The Department  is : Finance\n",
            "Employee name is : No Name\n",
            "Employee ID : 0000\n",
            "Employee Salary : 0\n"
          ]
        }
      ]
    },
    {
      "cell_type": "code",
      "source": [
        "# Multiple Methods in the class\n",
        "# Basic Example\n",
        "\n",
        "class Organization:\n",
        "  name_of_Campany = \"Triveni Consultancy Services\"\n",
        "  department = \"Sales\"\n",
        "\n",
        "  def __init__(self, name=\"No Name\", id=\"0000\",target_acheived=[1, 1, 1, 1], salary=0):\n",
        "    self.name = name\n",
        "    self.id = id\n",
        "    self.target_acheived = target_acheived\n",
        "    self.salary = salary\n",
        "\n",
        "  def employee_Details(self):\n",
        "    print(\"The company name is :\", self.name_of_Campany)\n",
        "    print(\"The Department  is :\", self.department)\n",
        "    print(\"Employee name is :\", self.name)\n",
        "    print(\"Employee ID :\", self.id)\n",
        "    print(\"Employee Salary :\", self.salary)\n",
        "    print(\"Revenue achived in the 1st month :\",self.target_acheived)\n",
        "\n",
        "  def rev_average(self):\n",
        "    sum = 0\n",
        "    print(len(self.target_acheived))\n",
        "    for i in self.target_acheived:\n",
        "      sum = sum + i\n",
        "    return sum/len(self.target_acheived)\n",
        "\n",
        "\n",
        "emp1 = Organization(\"SivaPriya\",\"0002\",[50000, 100000, 50000, 200000], 9999)\n",
        "\n",
        "# print(emp1)  # Should print the address of the object in the memory\n",
        "# print(\"The company name is :\", emp1.name_of_Campany)\n",
        "# print(\"The Department  is :\", emp1.department)\n",
        "# print(\"Employee name is :\", emp1.name)\n",
        "# print(\"Employee ID :\", emp1.id)\n",
        "# print(\"Employee Salary :\", emp1.salary)\n",
        "\n",
        "emp1.employee_Details()\n",
        "print(emp1.rev_average())\n",
        "\n",
        "\n"
      ],
      "metadata": {
        "colab": {
          "base_uri": "https://localhost:8080/"
        },
        "id": "CPC0wAWM6anX",
        "outputId": "f4c8c8f5-51c9-4e96-d6b5-52ae1fec3245"
      },
      "execution_count": 24,
      "outputs": [
        {
          "output_type": "stream",
          "name": "stdout",
          "text": [
            "The company name is : Triveni Consultancy Services\n",
            "The Department  is : Sales\n",
            "Employee name is : SivaPriya\n",
            "Employee ID : 0002\n",
            "Employee Salary : 9999\n",
            "Revenue achived in the 1st month : [50000, 100000, 50000, 200000]\n",
            "4\n",
            "100000.0\n"
          ]
        }
      ]
    },
    {
      "cell_type": "code",
      "source": [
        "# Static methods\n",
        "\n",
        "class House:\n",
        "  no_ofDoors = \"One\"\n",
        "\n",
        "  def __init__(self, type_OfHouse):\n",
        "    self.type_OfHouse = type_OfHouse\n",
        "\n",
        "  def wish(self):\n",
        "    print(f\"Welcome to my {self.type_OfHouse}\")\n",
        "\n",
        "  @staticmethod # in any method, where ever u will not use self, you should declare that method to be staticmethod so that it will stop passing implicit parameter (self)\n",
        "  def wishing():\n",
        "    print(f\"Welcome to my House\")\n",
        "\n",
        "h1 = House(\"Apartment\")\n",
        "\n",
        "print(h1.no_ofDoors)\n",
        "print(h1.type_OfHouse)\n",
        "h1.wish()\n",
        "h1.wishing()\n",
        "\n",
        "\n"
      ],
      "metadata": {
        "colab": {
          "base_uri": "https://localhost:8080/"
        },
        "id": "t-LI4xFJ9urk",
        "outputId": "e561336d-2e65-4383-e2d5-b3489cbc1e61"
      },
      "execution_count": 34,
      "outputs": [
        {
          "output_type": "stream",
          "name": "stdout",
          "text": [
            "One\n",
            "Apartment\n",
            "Welcome to my Apartment\n",
            "Welcome to my House\n"
          ]
        }
      ]
    },
    {
      "cell_type": "markdown",
      "source": [
        "#### PILLERS OF OOP's\n",
        "  1. Abstraction : Hiding the implementation of the class and only showing the essential output to the user\n",
        "  2. Encapsulation  : Wrapping the data and functions into single unit (Object)\n",
        "  3. Inheritance : child class will be derived from parent class or current class is being derived from another class\n",
        "  4. Polymorphism : when same operator will have multiple operations as per the context\n",
        "\n"
      ],
      "metadata": {
        "id": "VAqJIXkGDJ_u"
      }
    },
    {
      "cell_type": "code",
      "source": [
        "print(1+1) # Addition\n",
        "\n",
        "print(\"Ram\" +\" \"+ \"Bheem\") # Concatenation\n",
        "list1 = [1, 2, 3]\n",
        "list2 = [4, 5, 6]\n",
        "print(list1 + list2) # Merging\n"
      ],
      "metadata": {
        "colab": {
          "base_uri": "https://localhost:8080/"
        },
        "id": "4pWJS24FAVsH",
        "outputId": "bb908e7d-4e36-479c-8519-de73081f415f"
      },
      "execution_count": 37,
      "outputs": [
        {
          "output_type": "stream",
          "name": "stdout",
          "text": [
            "2\n",
            "Ram Bheem\n",
            "[1, 2, 3, 4, 5, 6]\n"
          ]
        }
      ]
    },
    {
      "cell_type": "code",
      "source": [
        "# Abstraction : Hiding the implementation of the class and only showing the essential output to the user\n",
        "\n",
        "class Car:\n",
        "  def __init__(self):\n",
        "    self.accel = False\n",
        "    self.bre = False\n",
        "    self.clutch = False\n",
        "\n",
        "  def start(self):\n",
        "    print(self.accel)\n",
        "    print(self.bre)\n",
        "    print(self.clutch)\n",
        "    print(\"Vehicle Started\")\n",
        "\n",
        "\n",
        "car1 = Car()\n",
        "car1.start() # Trying to show the the abstraction in the class Car\n",
        "\n",
        "\n",
        "\n",
        "\n"
      ],
      "metadata": {
        "colab": {
          "base_uri": "https://localhost:8080/"
        },
        "id": "luz0hcH_EEgT",
        "outputId": "a72914a0-9674-43cd-b7be-61b925fe8b49"
      },
      "execution_count": 38,
      "outputs": [
        {
          "output_type": "stream",
          "name": "stdout",
          "text": [
            "True\n",
            "True\n",
            "True\n",
            "Vehicle Started\n"
          ]
        }
      ]
    },
    {
      "cell_type": "code",
      "source": [
        "# Practice question  Abstraction\n",
        "\n",
        "class Banking:\n",
        "  bank_Name = \"HDFC\"\n",
        "\n",
        "  def __init__(self, name, acc_no, balance):\n",
        "    self.name = name\n",
        "    self.acc_no = acc_no\n",
        "    self.balance = balance\n",
        "\n",
        "  def debit(self, num):\n",
        "    self.balance = self.balance - num\n",
        "    print(f\" The remaining balance in {self.acc_no} account is {self.balance}\")\n",
        "\n",
        "  def credit(self, num):\n",
        "    self.balance = self.balance + num\n",
        "    print(f\" The remaining balance in {self.acc_no} account is {self.balance}\")\n",
        "\n",
        "  def bal(self):\n",
        "    print(f\" The remaining balance in {self.acc_no} account is {self.balance}\")\n",
        "\n",
        "\n",
        "acc1 = Banking(\"SivaPriya\", \"9711432\", 1000000)\n",
        "acc1.bal()\n",
        "acc1.debit(100000)\n",
        "acc1.debit(500000)\n",
        "acc1.credit(1)\n"
      ],
      "metadata": {
        "colab": {
          "base_uri": "https://localhost:8080/"
        },
        "id": "xRI6Rt2fGxbV",
        "outputId": "8abf15b3-6bb1-4509-aed7-9a3b20cec3b3"
      },
      "execution_count": 43,
      "outputs": [
        {
          "output_type": "stream",
          "name": "stdout",
          "text": [
            " The remaining balance in 9711432 account is 1000000\n",
            " The remaining balance in 9711432 account is 900000\n",
            " The remaining balance in 9711432 account is 400000\n",
            " The remaining balance in 9711432 account is 400001\n"
          ]
        }
      ]
    },
    {
      "cell_type": "code",
      "source": [
        "# CRUD : Create, Read or Access, Update, Delete\n",
        "\n",
        "# Deletion of the object or object attibute\n",
        "\n",
        "class Student:\n",
        "  def __init__(self, name, id):\n",
        "    self.name = name\n",
        "    self.id = id\n",
        "\n",
        "\n",
        "s1 = Student(\"ABC\", 123)\n",
        "print(s1.name)\n",
        "print(s1.id)\n",
        "\n",
        "# del s1.id  # we deleted the attribute\n",
        "\n",
        "# print(s1.id)\n",
        "\n",
        "del s1\n",
        "print(s1) # We should expect memory address but we deleted in this case so we will get the error\n",
        "\n"
      ],
      "metadata": {
        "colab": {
          "base_uri": "https://localhost:8080/",
          "height": 228
        },
        "id": "wguGDh-KJQZX",
        "outputId": "ab43c024-c383-4fbc-e226-cfc605a1cab4"
      },
      "execution_count": 46,
      "outputs": [
        {
          "output_type": "stream",
          "name": "stdout",
          "text": [
            "ABC\n",
            "123\n"
          ]
        },
        {
          "output_type": "error",
          "ename": "NameError",
          "evalue": "name 's1' is not defined",
          "traceback": [
            "\u001b[0;31m---------------------------------------------------------------------------\u001b[0m",
            "\u001b[0;31mNameError\u001b[0m                                 Traceback (most recent call last)",
            "\u001b[0;32m<ipython-input-46-489eef5d8816>\u001b[0m in \u001b[0;36m<cell line: 19>\u001b[0;34m()\u001b[0m\n\u001b[1;32m     17\u001b[0m \u001b[0;34m\u001b[0m\u001b[0m\n\u001b[1;32m     18\u001b[0m \u001b[0;32mdel\u001b[0m \u001b[0ms1\u001b[0m\u001b[0;34m\u001b[0m\u001b[0;34m\u001b[0m\u001b[0m\n\u001b[0;32m---> 19\u001b[0;31m \u001b[0mprint\u001b[0m\u001b[0;34m(\u001b[0m\u001b[0ms1\u001b[0m\u001b[0;34m)\u001b[0m\u001b[0;34m\u001b[0m\u001b[0;34m\u001b[0m\u001b[0m\n\u001b[0m\u001b[1;32m     20\u001b[0m \u001b[0;34m\u001b[0m\u001b[0m\n",
            "\u001b[0;31mNameError\u001b[0m: name 's1' is not defined"
          ]
        }
      ]
    },
    {
      "cell_type": "code",
      "source": [
        "# Updation of Objects\n",
        "\n",
        "class Student:\n",
        "  def __init__(self, name, id):\n",
        "    self.name = name\n",
        "    self.id = id\n",
        "\n",
        "s1 = Student(\"ABC\", 123)\n",
        "print(s1.name)\n",
        "print(s1.id)\n",
        "\n",
        "\n",
        "s1.name = \"Siva Priyamma\" # Updating the object attribute\n",
        "print(s1.name)\n",
        "\n",
        "\n"
      ],
      "metadata": {
        "colab": {
          "base_uri": "https://localhost:8080/"
        },
        "id": "lgCI45XuKgck",
        "outputId": "84ed663c-675e-4558-e23e-4971f1fe5e3b"
      },
      "execution_count": 48,
      "outputs": [
        {
          "output_type": "stream",
          "name": "stdout",
          "text": [
            "ABC\n",
            "123\n",
            "Siva Priyamma\n"
          ]
        }
      ]
    },
    {
      "cell_type": "code",
      "source": [
        "# private Attributes : It is a class attribute which will not be called outside of the class\n",
        "\n",
        "class Account:\n",
        "  name_of_bank = \"HDFC\"\n",
        "\n",
        "  def __init__(self, acc_name, acc_no, acc_pw):\n",
        "    self.acc_name = acc_name\n",
        "    self.acc_no = acc_no\n",
        "    self.__acc_pw = acc_pw\n",
        "\n",
        "  def reset_pw(self):\n",
        "    print(f\"Your Password is :{self.__acc_pw}\")\n",
        "\n",
        "\n",
        "c1 = Account(\"Triveni\", \"12321\", \"T123\")\n",
        "c1.reset_pw()\n",
        "\n",
        "#print(c1.__acc_pw) # We will not be able to aceess this attribut because we have initialized this obj as private variable\n"
      ],
      "metadata": {
        "colab": {
          "base_uri": "https://localhost:8080/"
        },
        "id": "gb9XunooLG0Q",
        "outputId": "fa1bb3bf-6522-434f-ba5d-1585d111125f"
      },
      "execution_count": 53,
      "outputs": [
        {
          "output_type": "stream",
          "name": "stdout",
          "text": [
            "Your Password is :T123\n"
          ]
        }
      ]
    },
    {
      "cell_type": "code",
      "source": [],
      "metadata": {
        "id": "O8sv-smyMSoh"
      },
      "execution_count": null,
      "outputs": []
    }
  ]
}