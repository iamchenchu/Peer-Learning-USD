{
  "nbformat": 4,
  "nbformat_minor": 0,
  "metadata": {
    "colab": {
      "provenance": [],
      "authorship_tag": "ABX9TyO0Awr1/qGv5TMzslwERyew",
      "include_colab_link": true
    },
    "kernelspec": {
      "name": "python3",
      "display_name": "Python 3"
    },
    "language_info": {
      "name": "python"
    }
  },
  "cells": [
    {
      "cell_type": "markdown",
      "metadata": {
        "id": "view-in-github",
        "colab_type": "text"
      },
      "source": [
        "<a href=\"https://colab.research.google.com/github/iamchenchu/Peer-Learning-USD/blob/main/Week_04_Python_Crash_Course.ipynb\" target=\"_parent\"><img src=\"https://colab.research.google.com/assets/colab-badge.svg\" alt=\"Open In Colab\"/></a>"
      ]
    },
    {
      "cell_type": "markdown",
      "source": [
        "#### Covered Syllabus so far\n",
        "  1. Basics of python and memory representation\n",
        "  2. Variables and Data Types\n",
        "  3. Data Structures : `list, tuple, set, dictionary`\n",
        "  4. Operators\n",
        "  5. Type Casting\n",
        "  6. Inputs from the user\n",
        "  7. Conditionals : `If, else, elif`\n",
        "  8. Functions : `InBuilt, User Defined`\n",
        "  9. Loops : `for, while`\n",
        "  10.Object Oriented Programming\n",
        "    * Classes\n",
        "    * Objects\n",
        "    * Encapsulation\n",
        "    * Abstraction\n",
        "\n",
        "\n",
        "#### Expected in week 4\n",
        "  1. Inheritance\n",
        "  2. polymorphism\n",
        "  3. File Handling\n",
        "  4. Error Handling\n",
        "  5. some extra programs of your choice, we will build together for real life situation\n",
        "\n",
        "\n",
        "    ******************************END OF THE CRASH COURSE***********************\n",
        "\n"
      ],
      "metadata": {
        "id": "Cto0aFFdNXD0"
      }
    },
    {
      "cell_type": "code",
      "source": [
        "# Private methods\n",
        "class Person:\n",
        "  __name = \"Krishna\" # class attribute\n",
        "\n",
        "  def __hello(self):\n",
        "    print(f\"Hello {self.__name}\")\n",
        "\n",
        "  def welcome(self):\n",
        "    self.__hello()\n",
        "    print(f\"Welcome to USD MR.{self.__name}\")\n",
        "\n",
        "\n",
        "p1 = Person() # p1 is an object\n",
        "p1.welcome()\n"
      ],
      "metadata": {
        "id": "Sg2TtlW6Ns7k",
        "colab": {
          "base_uri": "https://localhost:8080/"
        },
        "outputId": "8891c624-8755-441e-daee-b977dd287266"
      },
      "execution_count": 8,
      "outputs": [
        {
          "output_type": "stream",
          "name": "stdout",
          "text": [
            "Hello Krishna\n",
            "Welcome to USD MR.Krishna\n"
          ]
        }
      ]
    },
    {
      "cell_type": "code",
      "source": [
        "\"Inheritance : When we have a class that is derived from another class, the current would be called as child class, the class which has been derived from is called parent class\"\n",
        "\n",
        "# Single Inheritance\n",
        "\n",
        "class Car:\n",
        "  @staticmethod # decorator\n",
        "  def start():\n",
        "    print(\"Car started\")\n",
        "\n",
        "  @staticmethod\n",
        "  def stop():\n",
        "    print(\"Car stopped\")\n",
        "\n",
        "class Toyota(Car):\n",
        "\n",
        "  def __init__(self, name):\n",
        "    self.name = name\n",
        "\n",
        "c1 = Toyota(\"Corolla\")\n",
        "print(f\"The car name is {c1.name}\")\n",
        "c1.start()\n",
        "c2 = Toyota(\"Fortunar\")\n",
        "print(f\"The car name is {c2.name}\")\n",
        "c2.start()\n",
        "c3 = Toyota(\"Camry\")\n",
        "print(f\"The car name is {c3.name}\")\n",
        "c3.start()"
      ],
      "metadata": {
        "colab": {
          "base_uri": "https://localhost:8080/"
        },
        "id": "2XdkN6AWtYNX",
        "outputId": "94ef982c-36b6-4e38-8796-b9c66f3f59d6"
      },
      "execution_count": 11,
      "outputs": [
        {
          "output_type": "stream",
          "name": "stdout",
          "text": [
            "The car name is Corolla\n",
            "Car started\n",
            "The car name is Fortunar\n",
            "Car started\n",
            "The car name is Camry\n",
            "Car started\n"
          ]
        }
      ]
    },
    {
      "cell_type": "markdown",
      "source": [
        "# Inheritance Types :\n",
        "  1. Single Inheritance : derived from one single class\n",
        "  2. Multiple Inheritance : child class derived from 2 or more classes\n",
        "  3. Multi Level Inheritance : the child class is derived from a class which is derived from another class\n",
        "\n",
        "\n"
      ],
      "metadata": {
        "id": "y48lNEWm0odf"
      }
    },
    {
      "cell_type": "code",
      "source": [
        "# Multi Level Inheritance\n",
        "class Car:\n",
        "  @staticmethod\n",
        "  def start():\n",
        "    print(\"The car is started\")\n",
        "\n",
        "  @staticmethod\n",
        "  def stop():\n",
        "    print(\"The car is stopped\")\n",
        "\n",
        "class Toyota(Car):\n",
        "  def __init__(self, brand):\n",
        "    self.brand = brand\n",
        "\n",
        "class Fortuner(Toyota):\n",
        "  def __init__(self, type):\n",
        "    self.type = type\n",
        "\n",
        "\n",
        "c1 = Fortuner(\"Diesel\")\n",
        "print(f\"The car type is {c1.type}\")\n",
        "c1.start()\n",
        "c2 = Fortuner(\"Electric\")\n",
        "print(f\"The car type is {c2.type}\")\n",
        "c2.start()\n",
        "c3 = Fortuner(\"Hybrid\")\n",
        "print(f\"The car type is {c3.type}\")\n",
        "c3.start()\n",
        "\n",
        "c1.stop()\n",
        "c2.stop()\n",
        "c3.stop()\n",
        "\n",
        "\n"
      ],
      "metadata": {
        "colab": {
          "base_uri": "https://localhost:8080/"
        },
        "id": "KjpEt_8nyxW7",
        "outputId": "d006f7bb-35e2-4145-9e61-2da5d133408e"
      },
      "execution_count": 15,
      "outputs": [
        {
          "output_type": "stream",
          "name": "stdout",
          "text": [
            "The car type is Diesel\n",
            "The car is started\n",
            "The car type is Electric\n",
            "The car is started\n",
            "The car type is Hybrid\n",
            "The car is started\n",
            "The car is stopped\n",
            "The car is stopped\n",
            "The car is stopped\n"
          ]
        }
      ]
    },
    {
      "cell_type": "code",
      "source": [
        "# Multiple Inheritance\n",
        "class A: # Father\n",
        "  varA = \"Welcome to class A\"\n",
        "\n",
        "class B : # Mother\n",
        "  varB = \"Welcome to class B\"\n",
        "\n",
        "class C(A, B): # Our Class\n",
        "  varC= \"Welcome to class C\"\n",
        "\n",
        "c1 = C() # Creating object with our class blue print\n",
        "\n",
        "print(c1.varC)\n",
        "print(c1.varB)\n",
        "print(c1.varA)\n",
        "\n"
      ],
      "metadata": {
        "colab": {
          "base_uri": "https://localhost:8080/"
        },
        "id": "4RJEkz7t28LX",
        "outputId": "de7d712c-2322-41bd-8d40-cf5b6cf595de"
      },
      "execution_count": 16,
      "outputs": [
        {
          "output_type": "stream",
          "name": "stdout",
          "text": [
            "Welcome to class C\n",
            "Welcome to class B\n",
            "Welcome to class A\n"
          ]
        }
      ]
    },
    {
      "cell_type": "code",
      "source": [
        "# super(): you can access and define the methods from the parents in our current class\n",
        "\n",
        "class Car:\n",
        "  def __init__(self, name):\n",
        "    print(\"Calling the constructor in Car class\")\n",
        "    self.name = name\n",
        "\n",
        "  @staticmethod\n",
        "  def start():\n",
        "    print(\"Car is started\")\n",
        "  @staticmethod\n",
        "  def stop():\n",
        "    print(\"Car is stopped\")\n",
        "\n",
        "class Toyota(Car):\n",
        "  def __init__(self, name, type):\n",
        "    print(\"Calling the constructor in toyota class\")\n",
        "    super().__init__(name)\n",
        "    self.type = type\n",
        "\n",
        "car1 = Toyota(\"Carmy\", \"Diesel\")\n",
        "print(car1.name)\n",
        "print(car1.type)\n"
      ],
      "metadata": {
        "colab": {
          "base_uri": "https://localhost:8080/"
        },
        "id": "SZYO6yHn4UtP",
        "outputId": "6cd8ac46-1326-4eee-98d5-d5cf4547b466"
      },
      "execution_count": 17,
      "outputs": [
        {
          "output_type": "stream",
          "name": "stdout",
          "text": [
            "Calling the constructor in toyota class\n",
            "Calling the constructor in Car class\n"
          ]
        }
      ]
    },
    {
      "cell_type": "code",
      "source": [
        "# super(): you can access and define the methods from the parents in our current class\n",
        "# Multi Level Inheritance\n",
        "\n",
        "class Car:\n",
        "  def __init__(self, name):\n",
        "    print(\"Calling the constructor in Car class\")\n",
        "    self.name = name\n",
        "\n",
        "  @staticmethod\n",
        "  def start():\n",
        "    print(\"Car is started\")\n",
        "  @staticmethod\n",
        "  def stop():\n",
        "    print(\"Car is stopped\")\n",
        "\n",
        "class Toyota(Car):\n",
        "  def __init__(self, name, type):\n",
        "    print(\"Calling the constructor in toyota class\")\n",
        "    super().__init__(name)\n",
        "    self.type = type\n",
        "\n",
        "class BMW(Toyota):\n",
        "  def __init__(self, name, type, model):\n",
        "    super().__init__(name, type)\n",
        "    self.model = model\n",
        "\n",
        "car1 =BMW(\"Coupe\", \"Diesel\", \"Z4\")\n",
        "print(car1.name)\n",
        "print(car1.type)\n",
        "print(car1.model)\n"
      ],
      "metadata": {
        "colab": {
          "base_uri": "https://localhost:8080/"
        },
        "id": "Yb5N03_D6Vu-",
        "outputId": "9ee99cd4-f200-4fe8-c559-763cc44d6d1c"
      },
      "execution_count": 21,
      "outputs": [
        {
          "output_type": "stream",
          "name": "stdout",
          "text": [
            "Calling the constructor in toyota class\n",
            "Calling the constructor in Car class\n",
            "Coupe\n",
            "Diesel\n",
            "Z4\n"
          ]
        }
      ]
    },
    {
      "cell_type": "code",
      "source": [
        "# Polymorphism  : same name but different operations / behaviour depends on the context\n",
        "\n",
        "class Animal:\n",
        "  def speak(self):\n",
        "    return \"shout!!!\"\n",
        "\n",
        "class Dog(Animal):\n",
        "  def speak(self):\n",
        "    return \"Bow\"\n",
        "\n",
        "class Cat(Animal):\n",
        "  def speak(self):\n",
        "    return \"Meoww\"\n",
        "\n",
        "class Cow(Animal):\n",
        "  def speak(self):\n",
        "    return \"Ambaa\"\n",
        "\n",
        "\n",
        "dog = Dog()\n",
        "print(dog.speak()) #\"Bow\"\n",
        "\n",
        "cat = Cat()\n",
        "print(cat.speak()) #\"Meoww\"\n",
        "\n",
        "cow = Cow()\n",
        "print(cow.speak()) #\"Ambaa\"\n",
        "\n"
      ],
      "metadata": {
        "colab": {
          "base_uri": "https://localhost:8080/"
        },
        "id": "wYCu0Qnn7iU7",
        "outputId": "ee9598d4-90a1-4b21-c7b5-c77dae661a8c"
      },
      "execution_count": 23,
      "outputs": [
        {
          "output_type": "stream",
          "name": "stdout",
          "text": [
            "Bow\n",
            "Meoww\n",
            "Ambaa\n"
          ]
        }
      ]
    },
    {
      "cell_type": "code",
      "source": [
        "# Polymorphism  : same name but different operations / behaviour depends on the context\n",
        "# Looping the objects\n",
        "\n",
        "class Animal:\n",
        "  def speak(self):\n",
        "    return \"shout!!!\"\n",
        "\n",
        "class Dog(Animal):\n",
        "  def speak(self):\n",
        "    return \"Bow\"\n",
        "\n",
        "class Cat(Animal):\n",
        "  def speak(self):\n",
        "    return \"Meoww\"\n",
        "\n",
        "class Cow(Animal):\n",
        "  def speak(self):\n",
        "    return \"Ambaa\"\n",
        "\n",
        "animals = [Dog(), Cat(), Cow()]\n",
        "print(type(animals))\n",
        "\n",
        "for animal in animals:\n",
        "  print(animal.speak())"
      ],
      "metadata": {
        "colab": {
          "base_uri": "https://localhost:8080/"
        },
        "id": "tDSZK7LpBWXv",
        "outputId": "ce06d1f6-e3c1-4377-8c1d-85699b43dced"
      },
      "execution_count": 26,
      "outputs": [
        {
          "output_type": "stream",
          "name": "stdout",
          "text": [
            "<class 'list'>\n",
            "Bow\n",
            "Meoww\n",
            "Ambaa\n"
          ]
        }
      ]
    },
    {
      "cell_type": "code",
      "source": [],
      "metadata": {
        "id": "fSe_1mZkB-NB"
      },
      "execution_count": null,
      "outputs": []
    }
  ]
}