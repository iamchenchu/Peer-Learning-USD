{
  "nbformat": 4,
  "nbformat_minor": 0,
  "metadata": {
    "colab": {
      "provenance": [],
      "authorship_tag": "ABX9TyNf64ozIZrfi7LoKi+GnoIz",
      "include_colab_link": true
    },
    "kernelspec": {
      "name": "python3",
      "display_name": "Python 3"
    },
    "language_info": {
      "name": "python"
    }
  },
  "cells": [
    {
      "cell_type": "markdown",
      "metadata": {
        "id": "view-in-github",
        "colab_type": "text"
      },
      "source": [
        "<a href=\"https://colab.research.google.com/github/iamchenchu/Peer-Learning-USD/blob/main/Week_02_Python_Crash_Course.ipynb\" target=\"_parent\"><img src=\"https://colab.research.google.com/assets/colab-badge.svg\" alt=\"Open In Colab\"/></a>"
      ]
    },
    {
      "cell_type": "markdown",
      "source": [
        "#### Week 2 Expected syllabus\n",
        "\n",
        "  1. Dictionary and methods\n",
        "  2. Operators\n",
        "    * Arithmetic operators\n",
        "    * Assignment operators\n",
        "    * Comparison operators\n",
        "    * Logical operators\n",
        "    * Identity operators\n",
        "    * Membership operators\n",
        "    * Bitwise operators\n",
        "  3. Inputs from the user\n",
        "  4. Conditional Statements\n",
        "  5. Loops\n",
        "  6. Functions\n"
      ],
      "metadata": {
        "id": "U6GE-HoAjwoW"
      }
    },
    {
      "cell_type": "code",
      "source": [],
      "metadata": {
        "id": "YYuunHn0kTsU"
      },
      "execution_count": null,
      "outputs": []
    }
  ]
}