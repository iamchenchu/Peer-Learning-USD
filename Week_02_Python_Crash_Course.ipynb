{
  "nbformat": 4,
  "nbformat_minor": 0,
  "metadata": {
    "colab": {
      "provenance": [],
      "toc_visible": true,
      "authorship_tag": "ABX9TyPID1aocYTOxfnfgLbbgLDP",
      "include_colab_link": true
    },
    "kernelspec": {
      "name": "python3",
      "display_name": "Python 3"
    },
    "language_info": {
      "name": "python"
    }
  },
  "cells": [
    {
      "cell_type": "markdown",
      "metadata": {
        "id": "view-in-github",
        "colab_type": "text"
      },
      "source": [
        "<a href=\"https://colab.research.google.com/github/iamchenchu/Peer-Learning-USD/blob/main/Week_02_Python_Crash_Course.ipynb\" target=\"_parent\"><img src=\"https://colab.research.google.com/assets/colab-badge.svg\" alt=\"Open In Colab\"/></a>"
      ]
    },
    {
      "cell_type": "markdown",
      "source": [
        "#### Week 2 Expected syllabus\n",
        "\n",
        "  1. Dictionary and methods\n",
        "  2. Operators\n",
        "    * Arithmetic operators  : a = b + c\n",
        "    * Assignment operators : x = x + a\n",
        "    * Comparison operators : >, <, >=\n",
        "    * Logical operators : and or not\n",
        "    * Identity operators :\n",
        "    * Membership operators\n",
        "    * Bitwise operators\n",
        "  3. Inputs from the user\n",
        "  4. Conditional Statements `[if, elif, else]`\n",
        "  5. Loops `[for, while]`\n",
        "  6. Functions\n"
      ],
      "metadata": {
        "id": "U6GE-HoAjwoW"
      }
    },
    {
      "cell_type": "markdown",
      "source": [
        "#### Dictionaries"
      ],
      "metadata": {
        "id": "1UJg_EdEK_u3"
      }
    },
    {
      "cell_type": "code",
      "source": [
        "# Dictionaries\n",
        "# Create :\n",
        "usd = {\n",
        "    'fee' : [6200, 5500, 3200, 7000, 4500],\n",
        "    'rent' :[450, 350, 250, 500, 400],\n",
        "    'department' : {'cse', 'ds', 'Arts', \"Bio\", 'Bussiness'},\n",
        "    'course_dur':['one_year', 'two_years', 'one_year', 'one_and_half_year','one_year']\n",
        "}\n",
        "\n",
        "# Access/Read :\n",
        "print(usd.keys()) # Python uses interpreter not compiler\n",
        "print(usd.values())\n",
        "print(\"The items in dict are :\",usd.items())\n",
        "print(usd['department']) # No indexing and random order\n",
        "\n",
        "# Update :\n",
        "usd.update({'fee1' : [6200, 5500, 3200, 7000, 4500]}) # Make sure to use the curly brases\n",
        "usd['country'] = ['india', 'india', 'nepal', 'Sri lanka', 'Pakistan']\n",
        "print(usd.keys())\n",
        "usd['country'][0] = 'PAk'\n",
        "print(usd['country'])\n",
        "\n",
        "# Delete :\n",
        "usd.pop('fee1') # Removes the specified item\n",
        "print(usd.keys())\n",
        "\n",
        "usd.popitem()  # removes last item\n",
        "print(usd.keys())\n",
        "\n",
        "\n",
        "\n"
      ],
      "metadata": {
        "id": "YYuunHn0kTsU",
        "colab": {
          "base_uri": "https://localhost:8080/"
        },
        "outputId": "9f5ea1b7-fd25-445d-9c69-ece6e0020980"
      },
      "execution_count": null,
      "outputs": [
        {
          "output_type": "stream",
          "name": "stdout",
          "text": [
            "dict_keys(['fee', 'rent', 'department', 'course_dur'])\n",
            "dict_values([[6200, 5500, 3200, 7000, 4500], [450, 350, 250, 500, 400], {'cse', 'Bussiness', 'Arts', 'Bio', 'ds'}, ['one_year', 'two_years', 'one_year', 'one_and_half_year', 'one_year']])\n",
            "The items in dict are : dict_items([('fee', [6200, 5500, 3200, 7000, 4500]), ('rent', [450, 350, 250, 500, 400]), ('department', {'cse', 'Bussiness', 'Arts', 'Bio', 'ds'}), ('course_dur', ['one_year', 'two_years', 'one_year', 'one_and_half_year', 'one_year'])])\n",
            "{'cse', 'Bussiness', 'Arts', 'Bio', 'ds'}\n",
            "dict_keys(['fee', 'rent', 'department', 'course_dur', 'fee1', 'country'])\n",
            "['PAk', 'india', 'nepal', 'Sri lanka', 'Pakistan']\n",
            "dict_keys(['fee', 'rent', 'department', 'course_dur', 'country'])\n",
            "dict_keys(['fee', 'rent', 'department', 'course_dur'])\n"
          ]
        }
      ]
    },
    {
      "cell_type": "markdown",
      "source": [
        "#### Operators"
      ],
      "metadata": {
        "id": "y5l3xjIpLD4g"
      }
    },
    {
      "cell_type": "code",
      "source": [
        "# Operators\n",
        "\n",
        "# Arithmatic Operators  : +, -, *, /, %, **, //\n",
        "\n",
        "a = 14\n",
        "b = 5\n",
        "\n",
        "print(\"a+b  :\", a+b)   # Addition\n",
        "print(\"a-b  :\", a-b)   # Subtraction\n",
        "print(\"a*b  :\", a*b)   # Multiplication\n",
        "print(\"a/b  :\", a/b)   # Division ,  quotient\n",
        "print(\"a%b  :\", a%b)   # Modulus , Remainder\n",
        "print(\"a//b :\", a//b)  # Floor Division\n",
        "print('a**b :', a**b ) # Exponetiation\n",
        "\n",
        "\n"
      ],
      "metadata": {
        "colab": {
          "base_uri": "https://localhost:8080/"
        },
        "id": "fSYk9Px73mwq",
        "outputId": "1ebda8f7-4163-418c-b382-e3d6a9a0808f"
      },
      "execution_count": null,
      "outputs": [
        {
          "output_type": "stream",
          "name": "stdout",
          "text": [
            "a+b  : 19\n",
            "a-b  : 9\n",
            "a*b  : 70\n",
            "a/b  : 2.8\n",
            "a%b  : 4\n",
            "a//b : 2\n",
            "a**b : 537824\n"
          ]
        }
      ]
    },
    {
      "cell_type": "code",
      "source": [
        "# Assignment Operators : +=, -=, *=, /=\n",
        "\n",
        "c = 10\n",
        "d = 5\n",
        "\n",
        "c += d\n",
        "print(\"c += d :\", c)\n",
        "\n",
        "c -= d\n",
        "print(\"c -= d :\", c)\n",
        "\n",
        "c *= d\n",
        "print(\"c *=d\", c)\n",
        "\n",
        "c /= d\n",
        "print(\"c /=d\", c)\n",
        "\n",
        "\n",
        "\n"
      ],
      "metadata": {
        "colab": {
          "base_uri": "https://localhost:8080/"
        },
        "id": "CbDb8USiCcwh",
        "outputId": "ee4213e8-f71b-45bf-ee67-77381690f209"
      },
      "execution_count": null,
      "outputs": [
        {
          "output_type": "stream",
          "name": "stdout",
          "text": [
            "c += d : 15\n",
            "c -= d : 10\n",
            "c *=d 50\n",
            "c /=d 10.0\n"
          ]
        }
      ]
    },
    {
      "cell_type": "code",
      "source": [
        "# Comparision Operators <, >, >=, <=, ==, != : Conditions, loops\n",
        "\n",
        "x = 6\n",
        "y = 3\n",
        "\n",
        "print(\"x >y :\", x>y)      # True\n",
        "print('x < y :', x<y)     # False\n",
        "print('x >= y :', x>=y)   # True\n",
        "print('x <= y :', x<=y)   # False\n",
        "print(\"x == y :\", x == y) # False\n",
        "print(\"x != y :\", x != y) # True\n"
      ],
      "metadata": {
        "colab": {
          "base_uri": "https://localhost:8080/"
        },
        "id": "pW6VRNlqGZA6",
        "outputId": "fe1d98ac-e953-4289-d1b3-09721a54cb79"
      },
      "execution_count": null,
      "outputs": [
        {
          "output_type": "stream",
          "name": "stdout",
          "text": [
            "x >y : True\n",
            "x < y : False\n",
            "x >= y : True\n",
            "x <= y : False\n",
            "x == y : False\n",
            "x != y : True\n"
          ]
        }
      ]
    },
    {
      "cell_type": "code",
      "source": [
        "# Identity Operatos : is, is not\n",
        "\n",
        "name1 = \"Sreelatha\"\n",
        "name2 = \"Reddy\"\n",
        "name3 = \"Sree\"\n",
        "name4 = \"Sree\"\n",
        "\n",
        "print(name3 is name4)       # True\n",
        "print(name2 is not name1)   # True\n",
        "print(name1 is not name3)   # True\n",
        "print(name4 is name3)       # True\n",
        "print(name2 is not name4)   # True\n",
        "\n"
      ],
      "metadata": {
        "colab": {
          "base_uri": "https://localhost:8080/"
        },
        "id": "B7bQPhbmH1HB",
        "outputId": "51a3698a-e66b-4cab-aa68-6d682fc50797"
      },
      "execution_count": null,
      "outputs": [
        {
          "output_type": "stream",
          "name": "stdout",
          "text": [
            "True\n",
            "True\n",
            "True\n",
            "True\n",
            "True\n"
          ]
        }
      ]
    },
    {
      "cell_type": "code",
      "source": [
        "# Logical Operators : and, or, not\n",
        "\n",
        "print(4>5 and 20<10)     # False\n",
        "print(100<200 or 10>20)  # True\n",
        "print(not 100 < 300)     # False\n",
        "\n"
      ],
      "metadata": {
        "colab": {
          "base_uri": "https://localhost:8080/"
        },
        "id": "rZJn9_bvKZ4n",
        "outputId": "3463b19f-bc9c-40e9-ebce-a9fbf7b3f8f7"
      },
      "execution_count": null,
      "outputs": [
        {
          "output_type": "stream",
          "name": "stdout",
          "text": [
            "False\n",
            "True\n",
            "False\n"
          ]
        }
      ]
    },
    {
      "cell_type": "code",
      "source": [
        "# Membership Operators : in, not in\n",
        "\n",
        "list1 = [1, 6, 9, 10, 8]\n",
        "list2 = [10, 30, 40, 50, 60]\n",
        "\n",
        "print(6 in list1)            # True\n",
        "print(100 in list2)          # False\n",
        "print(10 in list1)           # True\n",
        "print(10 not in list1)       # False\n",
        "print(100 not in list1)      # True"
      ],
      "metadata": {
        "colab": {
          "base_uri": "https://localhost:8080/"
        },
        "id": "Jz8SNtQJIrRS",
        "outputId": "b03f5323-084f-40e4-b83d-6b87e3990adc"
      },
      "execution_count": null,
      "outputs": [
        {
          "output_type": "stream",
          "name": "stdout",
          "text": [
            "True\n",
            "False\n",
            "True\n",
            "False\n",
            "True\n"
          ]
        }
      ]
    },
    {
      "cell_type": "code",
      "source": [
        "# Bitwise Operators : &(and), |(or), ~(Not), ^(XOR), <<, >>\n",
        "print(10 & 10)\n",
        "print(-5 & 3)\n",
        "print(-10 & 4)\n",
        "print(5 | 5)\n",
        "print(6|4)\n",
        "print(~10)\n"
      ],
      "metadata": {
        "colab": {
          "base_uri": "https://localhost:8080/"
        },
        "id": "bCcwWIAVJowl",
        "outputId": "3a13bbf1-c879-4ce9-8ecf-58e3d0b303fc"
      },
      "execution_count": null,
      "outputs": [
        {
          "output_type": "stream",
          "name": "stdout",
          "text": [
            "10\n",
            "3\n",
            "4\n",
            "5\n",
            "6\n",
            "-11\n"
          ]
        }
      ]
    },
    {
      "cell_type": "markdown",
      "source": [
        "#### Inputs from the user"
      ],
      "metadata": {
        "id": "eLT-cLf-KVxI"
      }
    },
    {
      "cell_type": "code",
      "source": [
        "f_name =input(\"First name please : \")\n",
        "l_name =input(\"Last name please : \")\n",
        "\n",
        "print(f_name, l_name) #  Calling multiple variables in single function\n",
        "print(f\"My Full name is {f_name} {l_name}\") # F String\n",
        "print(f_name +\" \"+ l_name)  # Concatenation\n",
        "print(\"My full name is {} {}\".format(f_name, l_name)) # String formatting\n",
        "\n",
        "\n",
        "\n",
        "# While taking input from the user, By default the python thinks the input as String\n",
        "\n",
        "\n",
        "age1 = int(input(\"Please enter your age :\"))\n",
        "age2 = int(input(\"Please enter your age again :\"))\n",
        "\n",
        "\n",
        " # Incase if we want to have specific datatype as an input then we have to do Type casting\n",
        "\n",
        "print(age1 + age2)\n"
      ],
      "metadata": {
        "colab": {
          "base_uri": "https://localhost:8080/"
        },
        "id": "c2pmhhvsKMqp",
        "outputId": "10590a6e-baf3-46f7-b8e9-19142371eefd"
      },
      "execution_count": null,
      "outputs": [
        {
          "output_type": "stream",
          "name": "stdout",
          "text": [
            "First name please : chenchu\n",
            "Last name please : reddy\n",
            "chenchu reddy\n",
            "My Full name is chenchu reddy\n",
            "chenchu reddy\n",
            "My full name is chenchu reddy\n",
            "Please enter your age :20\n",
            "Please enter your age again :20\n",
            "40\n"
          ]
        }
      ]
    },
    {
      "cell_type": "code",
      "source": [
        "height = float(input(\"Please enter your height : \"))\n",
        "age = float(input(\"Please enter your age : \"))\n",
        "\n",
        "print(type(height))\n",
        "print(type(age))\n",
        "\n",
        "print(height + age)\n"
      ],
      "metadata": {
        "colab": {
          "base_uri": "https://localhost:8080/"
        },
        "id": "j9aM9RZOLsPF",
        "outputId": "5d2565ac-1862-4710-ee24-5acd6af8475e"
      },
      "execution_count": null,
      "outputs": [
        {
          "output_type": "stream",
          "name": "stdout",
          "text": [
            "Please enter your height : 5.11\n",
            "Please enter your age : 26.6\n",
            "<class 'float'>\n",
            "<class 'float'>\n",
            "31.71\n"
          ]
        }
      ]
    },
    {
      "cell_type": "markdown",
      "source": [
        "#### Conditional statements\n",
        "\n",
        "If, elif, else : these are the 3 keywords we use for making conditional statements or blocks.\n",
        "\n",
        "* Mostly we use Comparision Operators <, >, >=, <=, ==, != in the conditional statements\n"
      ],
      "metadata": {
        "id": "alK6_ELGtYz8"
      }
    },
    {
      "cell_type": "code",
      "source": [
        "age = int(input(\"What is your age :\"))\n",
        "\n",
        "if age > 18:\n",
        "  print(\"You are adult\")\n",
        "else:\n",
        "  print(\"You are either a teen or a child\")"
      ],
      "metadata": {
        "id": "QnIXqjwRO9oC",
        "colab": {
          "base_uri": "https://localhost:8080/"
        },
        "outputId": "ff3c2fd8-17a1-4831-8ffc-737f4e224ea8"
      },
      "execution_count": null,
      "outputs": [
        {
          "output_type": "stream",
          "name": "stdout",
          "text": [
            "What is your age :30\n",
            "You are adult\n"
          ]
        }
      ]
    },
    {
      "cell_type": "code",
      "source": [
        "# If we want 3 conditions to be checked in the block : we shou use if, elif, else\n",
        "\n",
        "age = int(input(\"Please enter your age : \"))\n",
        "\n",
        "if age < 14:\n",
        "  print(\"You are a child\")\n",
        "\n",
        "elif age >14 and age < 18:\n",
        "  print(\"You are Teen\")\n",
        "\n",
        "else:\n",
        "  print(\"You are adult\")"
      ],
      "metadata": {
        "colab": {
          "base_uri": "https://localhost:8080/"
        },
        "id": "axvqLPoqzRjp",
        "outputId": "2476825a-fc59-4b84-9235-b387069158b7"
      },
      "execution_count": null,
      "outputs": [
        {
          "output_type": "stream",
          "name": "stdout",
          "text": [
            "Please enter your age : 5\n",
            "You are a child\n"
          ]
        }
      ]
    },
    {
      "cell_type": "code",
      "source": [
        "age1 = int(input(\"Please enter your age : \"))\n",
        "\n",
        "if age1 < 14:\n",
        "  print(\"You are a child\")\n",
        "\n",
        "elif age1 < 18:\n",
        "  print(\"You are Teen\")\n",
        "\n",
        "elif age1 < 25 :\n",
        "  print(\"You are Adult\")\n",
        "\n",
        "else:\n",
        "  print(\"You are a man\")"
      ],
      "metadata": {
        "colab": {
          "base_uri": "https://localhost:8080/"
        },
        "id": "rkEAWlSv0s0x",
        "outputId": "1f10d3ff-ef42-4255-f8d3-57ba13977f5e"
      },
      "execution_count": null,
      "outputs": [
        {
          "output_type": "stream",
          "name": "stdout",
          "text": [
            "Please enter your age : 3\n",
            "You are a child\n"
          ]
        }
      ]
    },
    {
      "cell_type": "code",
      "source": [
        "# comparision and logical : we use these both operators to make condition leakeage free or strong\n",
        "\n",
        "age1 = int(input(\"Please enter your age : \"))\n",
        "\n",
        "if age1 >= 0 and age1 <14:\n",
        "  print(\"You are a child\")\n",
        "\n",
        "elif age1 >= 14 and age1 < 18:\n",
        "  print(\"You are Teen\")\n",
        "\n",
        "elif age1 >= 18 and age1 < 25 :\n",
        "  print(\"You are Adult\")\n",
        "\n",
        "else:\n",
        "  print(\"You are a man\")"
      ],
      "metadata": {
        "colab": {
          "base_uri": "https://localhost:8080/"
        },
        "id": "OsxGY7Vb1K-a",
        "outputId": "96c99f16-ff80-47ab-967f-09389032d1f9"
      },
      "execution_count": null,
      "outputs": [
        {
          "output_type": "stream",
          "name": "stdout",
          "text": [
            "Please enter your age : 22\n",
            "You are Adult\n"
          ]
        }
      ]
    },
    {
      "cell_type": "code",
      "source": [
        "# DRY RUN : pen and paper and write logic\n",
        "\n",
        "# take 3 values and compare the values of each with the other values and find the bigger values of out of 3\n",
        "a = int(input(\"Please enter the value of a :\"))\n",
        "b = int(input(\"Please enter the value of b :\"))\n",
        "c = int(input(\"Please enter the value of c :\"))\n",
        "\n",
        "# Now write condition to find the bigger value out of 3 values\n",
        "\n",
        "if a == b and a == c:\n",
        "  print(\"All are equal\")\n",
        "\n",
        "elif a == b and a > c:\n",
        "  if a >= b and a > c:\n",
        "    print(\"A and b are equal\")\n",
        "  print(\"The bigger value is a\")\n",
        "\n",
        "elif b > a and b >= c :\n",
        "  if b >= c and a < c:\n",
        "    print(\"B and C are equal\")\n",
        "  print(\"The bigger value is b\")\n",
        "\n",
        "else:\n",
        "  print(\"The bigger value is c\") # DRY RUN : Very very imp"
      ],
      "metadata": {
        "colab": {
          "base_uri": "https://localhost:8080/"
        },
        "id": "ObrkqhTf1r9o",
        "outputId": "04ae27c5-8b96-4b8b-f377-e22857fc8bec"
      },
      "execution_count": null,
      "outputs": [
        {
          "output_type": "stream",
          "name": "stdout",
          "text": [
            "Please enter the value of a :5\n",
            "Please enter the value of b :10\n",
            "Please enter the value of c :10\n",
            "B and C are equal\n",
            "The bigger value is b\n"
          ]
        }
      ]
    },
    {
      "cell_type": "code",
      "source": [
        "# Grading\n",
        "\n",
        "marks = int(input(\"Please enter your marks :\"))\n",
        "\n",
        "if marks >= 90 :\n",
        "  print(\"A\")\n",
        "\n",
        "elif marks >= 80 and marks < 90:\n",
        "  print(\"B\")\n",
        "\n",
        "elif marks >= 70 and marks < 80:\n",
        "  print(\"C\")\n",
        "\n",
        "elif marks >= 60 and marks < 70:\n",
        "  print(\"D\")\n",
        "else :\n",
        "  print(\"FAIL\")\n"
      ],
      "metadata": {
        "colab": {
          "base_uri": "https://localhost:8080/"
        },
        "id": "vNSVnrtn3CnL",
        "outputId": "d05fa3d6-3f14-4f09-fc88-548695870c52"
      },
      "execution_count": null,
      "outputs": [
        {
          "output_type": "stream",
          "name": "stdout",
          "text": [
            "Please enter your marks :94\n",
            "A\n"
          ]
        }
      ]
    },
    {
      "cell_type": "markdown",
      "source": [
        "#### Functions :\n",
        " If we want to find a number as even or odd, usually we used write program logic every time we wanted to check.\n",
        "\n"
      ],
      "metadata": {
        "id": "JMKL31KU71fd"
      }
    },
    {
      "cell_type": "code",
      "source": [
        "a = 10\n",
        "if a % 2 == 0:\n",
        "  print(\"Even\")\n",
        "else:\n",
        "  print(\"Odd\")\n",
        "\n",
        "b = 21\n",
        "if b % 2 == 0:\n",
        "  print(\"Even\")\n",
        "else:\n",
        "  print(\"Odd\")\n",
        "\n",
        "c = 30\n",
        "if c % 2 == 0:\n",
        "  print(\"Even\")\n",
        "else:\n",
        "  print(\"Odd\")\n",
        "\n",
        "# To check each time we wrote 5 lines for each time, to prevent writing the same code multiple times we use functions:\n",
        "\n",
        "# hello function\n",
        "def hello():\n",
        "  print(\"Hello Friends!!\")\n",
        "\n",
        "hello()\n",
        "hello()\n",
        "\n",
        "\n"
      ],
      "metadata": {
        "colab": {
          "base_uri": "https://localhost:8080/"
        },
        "id": "T2lXgUsn7gLr",
        "outputId": "cac07517-6e69-430b-b10b-23df1aaf4b2c"
      },
      "execution_count": null,
      "outputs": [
        {
          "output_type": "stream",
          "name": "stdout",
          "text": [
            "Even\n",
            "Odd\n",
            "Even\n",
            "Hello Friends!!\n",
            "Hello Friends!!\n"
          ]
        }
      ]
    },
    {
      "cell_type": "code",
      "source": [
        "# Create a function of ever or odd\n",
        "\n",
        "def eoo(num, num2=10):\n",
        "  if num % 2 == 0:\n",
        "    print(\"Even\")\n",
        "  elif num2 != 0:\n",
        "    print(\"Odd\")\n",
        "\n",
        "  print(num)\n",
        "  print(num2)\n",
        "\n",
        "eoo(100, 20)\n"
      ],
      "metadata": {
        "colab": {
          "base_uri": "https://localhost:8080/"
        },
        "id": "kkdVuRGJ8b2C",
        "outputId": "2ce42cd3-bade-4846-c82b-1cb3022c80c2"
      },
      "execution_count": null,
      "outputs": [
        {
          "output_type": "stream",
          "name": "stdout",
          "text": [
            "Even\n",
            "100\n",
            "20\n"
          ]
        }
      ]
    },
    {
      "cell_type": "code",
      "source": [
        "# We can initialize the parameter values during the function creation if required\n",
        "\n",
        "def hello(name=\"World\"):\n",
        "  print(f\"Hello {name}\")\n",
        "\n",
        "hello(\"Manohar\")\n",
        "hello(1)\n",
        "hello()\n",
        "hello(\"Ram\")\n"
      ],
      "metadata": {
        "colab": {
          "base_uri": "https://localhost:8080/"
        },
        "id": "G3ahNepF_S6P",
        "outputId": "cf3f51cf-ffcb-4e37-c8eb-b58dc6336651"
      },
      "execution_count": null,
      "outputs": [
        {
          "output_type": "stream",
          "name": "stdout",
          "text": [
            "Hello Manohar\n",
            "Hello 1\n",
            "Hello World\n",
            "Hello Ram\n"
          ]
        }
      ]
    },
    {
      "cell_type": "code",
      "source": [
        "def table(num):\n",
        "  return num/3\n",
        "\n",
        "table(21)"
      ],
      "metadata": {
        "colab": {
          "base_uri": "https://localhost:8080/"
        },
        "id": "2Qrgo-XdAeht",
        "outputId": "4eb7b081-2da0-4966-ea8e-b7379d3a0098"
      },
      "execution_count": null,
      "outputs": [
        {
          "output_type": "execute_result",
          "data": {
            "text/plain": [
              "7.0"
            ]
          },
          "metadata": {},
          "execution_count": 55
        }
      ]
    },
    {
      "cell_type": "code",
      "source": [
        "# Function within a function\n",
        "\n",
        "def wish(name= \"World\"):\n",
        "  print(f\"Hello {name}\")\n",
        "  wish_from_Univ(\"IIT\")\n",
        "\n",
        "\n",
        "def wish_from_Univ(uni_name=\"USD\"):\n",
        "  print(f\"Welcome to {uni_name}\")\n",
        "\n",
        "\n",
        "wish(\"Manohar\") # Now we are calling function named wish(), but within this function we are calling another function called wish_from_Univ\n",
        "\n",
        "\n",
        "\n"
      ],
      "metadata": {
        "colab": {
          "base_uri": "https://localhost:8080/"
        },
        "id": "yIg8g72mCS03",
        "outputId": "57f05a47-b4d7-4799-9bff-7291fe04aca6"
      },
      "execution_count": null,
      "outputs": [
        {
          "output_type": "stream",
          "name": "stdout",
          "text": [
            "Hello Manohar\n",
            "Welcome to IIT\n",
            "<class 'int'>\n"
          ]
        }
      ]
    },
    {
      "cell_type": "markdown",
      "source": [
        "#### Loops\n",
        "\n",
        "Python has 2 primitive loop commands\n",
        "  1. While\n",
        "  2. For\n",
        "\n",
        "  "
      ],
      "metadata": {
        "id": "qsHjd3ekI3Am"
      }
    },
    {
      "cell_type": "code",
      "source": [
        "# While\n",
        "\n",
        "i = int(input(\"Please enter any value below 10 :\"))\n",
        "\n",
        "while i < 10:\n",
        "  print(\"Hello World\")\n",
        "  i = i+1\n",
        "\n"
      ],
      "metadata": {
        "colab": {
          "base_uri": "https://localhost:8080/"
        },
        "id": "3EWnnJijEBfd",
        "outputId": "b354d0f8-54d0-4bb3-ffe6-6ff77557a6f8"
      },
      "execution_count": null,
      "outputs": [
        {
          "output_type": "stream",
          "name": "stdout",
          "text": [
            "Please enter any value below 10 :7\n",
            "Hello World\n",
            "Hello World\n",
            "Hello World\n"
          ]
        }
      ]
    },
    {
      "cell_type": "code",
      "source": [
        "j = int(input(\"Please enter any value below 10 :\"))\n",
        "\n",
        "while j != 0 :\n",
        "  print(\"Hello World\")\n",
        "  if j == 5:\n",
        "    break\n",
        "  j = j-1"
      ],
      "metadata": {
        "colab": {
          "base_uri": "https://localhost:8080/"
        },
        "id": "R605rWW5KWTi",
        "outputId": "ceb8befc-4c85-4066-c94b-42066bf56b3f"
      },
      "execution_count": null,
      "outputs": [
        {
          "output_type": "stream",
          "name": "stdout",
          "text": [
            "Please enter any value below 10 :7\n",
            "Hello World\n",
            "Hello World\n",
            "Hello World\n"
          ]
        }
      ]
    },
    {
      "cell_type": "code",
      "source": [
        "j = int(input(\"Please enter any value below 10 :\"))\n",
        "while j != 0:\n",
        "    if j == 5:\n",
        "        j = j - 4\n",
        "        #print(\"At this point the j value is 5\")\n",
        "        continue\n",
        "    print(\"Hello World\")\n",
        "    j = j - 1"
      ],
      "metadata": {
        "colab": {
          "base_uri": "https://localhost:8080/"
        },
        "id": "vXp0aPJ9LO8y",
        "outputId": "398e07bc-9645-4fe7-8d87-280fe346e474"
      },
      "execution_count": null,
      "outputs": [
        {
          "output_type": "stream",
          "name": "stdout",
          "text": [
            "Please enter any value below 10 :7\n",
            "Hello World\n",
            "Hello World\n",
            "Hello World\n"
          ]
        }
      ]
    },
    {
      "cell_type": "code",
      "source": [
        "j = int(input(\"Please enter any value below 10 :\"))\n",
        "while j != 0:\n",
        "    if j == 5:\n",
        "        j = j - 3\n",
        "        #print(\"At this point the j value is 5\")\n",
        "        continue\n",
        "    print(\"Hello World\")\n",
        "    j = j - 1"
      ],
      "metadata": {
        "colab": {
          "base_uri": "https://localhost:8080/"
        },
        "id": "faLKn1KWMnHf",
        "outputId": "13945839-d3ad-4084-fa3d-8088d50e2887"
      },
      "execution_count": null,
      "outputs": [
        {
          "output_type": "stream",
          "name": "stdout",
          "text": [
            "Please enter any value below 10 :10\n",
            "Hello World\n",
            "Hello World\n",
            "Hello World\n",
            "Hello World\n",
            "Hello World\n"
          ]
        }
      ]
    },
    {
      "cell_type": "code",
      "source": [],
      "metadata": {
        "id": "FhZISyBnQynO"
      },
      "execution_count": null,
      "outputs": []
    }
  ]
}