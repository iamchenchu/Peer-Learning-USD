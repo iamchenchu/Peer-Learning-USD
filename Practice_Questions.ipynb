{
  "nbformat": 4,
  "nbformat_minor": 0,
  "metadata": {
    "colab": {
      "provenance": [],
      "authorship_tag": "ABX9TyMEV2BiHtJHozyW+w0XqshH",
      "include_colab_link": true
    },
    "kernelspec": {
      "name": "python3",
      "display_name": "Python 3"
    },
    "language_info": {
      "name": "python"
    }
  },
  "cells": [
    {
      "cell_type": "markdown",
      "metadata": {
        "id": "view-in-github",
        "colab_type": "text"
      },
      "source": [
        "<a href=\"https://colab.research.google.com/github/iamchenchu/Peer-Learning-USD/blob/main/Practice_Questions.ipynb\" target=\"_parent\"><img src=\"https://colab.research.google.com/assets/colab-badge.svg\" alt=\"Open In Colab\"/></a>"
      ]
    },
    {
      "cell_type": "markdown",
      "source": [
        "#### Week 1 - Practice Questions\n",
        "##### Topics Covered in the Week-1\n",
        "        1. What is programming and python advantages\n",
        "        2. Memory Representation of variables\n",
        "        3. Data Types\n",
        "            * Integer\n",
        "            * Float\n",
        "            * String and methods\n",
        "            * Bool\n",
        "            * None\n",
        "        4. Data Structures\n",
        "            * List and methods\n",
        "            * Tuple and methods\n",
        "            * Set  and methods\n",
        "            * Dictionaries and methods [To be discussed more]\n",
        "        5. Type Casting of Data Types and Data Structures\n",
        "        6. Concatenation of strings\n",
        "\n",
        "      "
      ],
      "metadata": {
        "id": "Un5CbTbI3OOd"
      }
    },
    {
      "cell_type": "markdown",
      "source": [
        "##### Question 1\n",
        "  * Write a program, defining atleast 15 variables and assign them the values which are of different data types (Make sure to cover 5 data types), Print all the variables as per their type of the data.\n",
        "\n",
        "**Note :** use 5 print functions as we discussed 5 data types, make sure to print all same datatype elements in one print function [I taught you how to print multiple variables in single print function]."
      ],
      "metadata": {
        "id": "b0JB4uVs4nRf"
      }
    },
    {
      "cell_type": "code",
      "source": [],
      "metadata": {
        "id": "41e1Ni0d6PML"
      },
      "execution_count": null,
      "outputs": []
    },
    {
      "cell_type": "markdown",
      "source": [
        "##### Question 2\n",
        "  * create a list named friends_usa, add your friends and create another list named friends_india and add your friends. Now create total_friends list concatenating the above 2 lists. Finally convert the concatenated list to the set data structure and print all the above lists individually."
      ],
      "metadata": {
        "id": "Hx8cK5Bt8R3H"
      }
    },
    {
      "cell_type": "code",
      "source": [],
      "metadata": {
        "id": "nBR-iAw19YdW"
      },
      "execution_count": null,
      "outputs": []
    },
    {
      "cell_type": "markdown",
      "source": [
        "##### Question 3\n",
        "  * Write a program explaining your expenses so far to study at USD including fee, flight tickets, rent....etc  [Now you choose appropriate data structure of your choice], also create a list which includes expected expenses from now to end your course at usd.\n",
        "\n",
        "  Note : Don't use advanced topics to solve this question. Try to solve using the concepts which we covered so far."
      ],
      "metadata": {
        "id": "rcQDNKcr9vCE"
      }
    },
    {
      "cell_type": "code",
      "source": [
        "# Sum. : For loop\n",
        "# Sequential Programming : line by line : 10000\n",
        "# Functional Programming  : 5000\n",
        "# Object Oriented Programming : 2500\n",
        "\n",
        "\n"
      ],
      "metadata": {
        "id": "VFlxfoPv-fbU"
      },
      "execution_count": null,
      "outputs": []
    },
    {
      "cell_type": "markdown",
      "source": [
        "##### Question 4\n",
        "Create some random list, tuple, set and convert them to other data structure types. and print the type of each created data structure."
      ],
      "metadata": {
        "id": "N194jTRv-1Yh"
      }
    },
    {
      "cell_type": "code",
      "source": [],
      "metadata": {
        "id": "YlFMNdV8_WTT"
      },
      "execution_count": null,
      "outputs": []
    },
    {
      "cell_type": "markdown",
      "source": [
        "##### Question 5\n",
        "Take the data structures from question 4 and perform 5 possible slicings, methods on each data structure.\n"
      ],
      "metadata": {
        "id": "SBWG9Npv_XMN"
      }
    },
    {
      "cell_type": "code",
      "source": [],
      "metadata": {
        "id": "CxGvJ2is_uG3"
      },
      "execution_count": null,
      "outputs": []
    },
    {
      "cell_type": "markdown",
      "source": [
        "### Roles and Path\n",
        "\n",
        "\n",
        "---\n",
        "\n",
        "\n",
        "\n",
        "---\n",
        "\n",
        "\n",
        "\n",
        "`**ML Engineer (Machine Learning Engineer)**`\n",
        "  1. Languages: Python, R, Java, C++\n",
        "  2. Libraries & Frameworks: TensorFlow, PyTorch, Keras, Scikit-learn\n",
        "  3. Tools & Platforms: Jupyter Notebook, Google Colab, AWS SageMaker, Azure\n",
        "Machine Learning, MLflow\n",
        "  4. Data Processing: Pandas, NumPy, Matplotlib, Seaborn\n",
        "  5. Version Control: Git\n",
        "  6. Containerization: Docker\n",
        "  7. Model Deployment: Flask, Django, FastAPI, TensorFlow Serving, ONNX\n",
        "\n",
        "`**Tester(Software Tester/QA Engineer)**`\n",
        "  1. Languages: Python, Java, JavaScript\n",
        "  2. Unit Testing Frameworks: JUnit, NUnit, pytest, unittest\n",
        "  3. Automation Tools: Selenium, Appium, Cypress, Postman\n",
        "  4. CI/CD Tools: Jenkins, Travis CI, GitHub Actions, GitLab CI\n",
        "  5. Version Control: Git\n",
        "  6. Project Management & Bug Tracking: JIRA, Trello\n",
        "  7. Performance Testing Tools: JMeter, LoadRunner\n",
        "\n",
        "`**Only Tools (Assuming DevOps/SysAdmin Roles)**`\n",
        "  1. Cloud Platforms: AWS, Azure, Google Cloud Platform\n",
        "  2. Infrastructure as Code: Terraform, CloudFormation, Pulumi\n",
        "  3. Configuration Management: Ansible, Chef, Puppet\n",
        "  4. Containerization & Orchestration: Docker, Kubernetes, Docker Swarm\n",
        "  5. CI/CD Tools: Jenkins, GitLab CI, GitHub Actions, CircleCI\n",
        "  6. Monitoring & Logging: Prometheus, Grafana, ELK Stack, Splunk\n",
        "  7. Scripting: Bash, Python\n",
        "\n",
        "`**Web Developer**`\n",
        "  1. Frontend Technologies: HTML, CSS, JavaScript, TypeScript, React, Angular, Vue.js\n",
        "  2. Backend Technologies: Node.js, Django, Flask, Ruby on Rails, .NET Core\n",
        "  3. Databases: MySQL, PostgreSQL, MongoDB, Firebase\n",
        "  4. Version Control: Git\n",
        "  5. API Design: REST, GraphQL\n",
        "  6. Tools: Webpack, Babel, npm, yarn\n",
        "  7. Cloud Hosting: AWS, Azure, Google Cloud, Vercel, Netlify\n",
        "\n",
        "`**App Developer**`\n",
        "  1. Native Development:\n",
        "  2. iOS: Swift, Objective-C\n",
        "  3. Android: Kotlin, Java\n",
        "  4. Cross-Platform Development: Flutter, React Native, Xamarin\n",
        "  5. UI/UX Design Tools: Adobe XD, Figma, Sketch\n",
        "  6. Version Control: Git\n",
        "  7. Backend Integration: Firebase, AWS Amplify\n",
        "  8. Testing & Deployment: Xcode, Android Studio, Fastlane\n",
        "\n",
        "`**Data Engineer**`\n",
        "  1. Programming Languages: Python, Java, Scala\n",
        "  2. Big Data Processing Frameworks: Apache Spark, Hadoop, Flink\n",
        "  3. Data Warehousing: Amazon Redshift, Google BigQuery, Snowflake\n",
        "  4. ETL Tools: Apache NiFi, Talend, Airflow\n",
        "  5. Databases: PostgreSQL, MongoDB, Cassandra\n",
        "  6. Stream Processing: Apache Kafka, RabbitMQ\n",
        "  7. Cloud Platforms: AWS, Azure, Google Cloud\n",
        "\n",
        "`**Data Scientist**`\n",
        "  1. Languages: Python, R, SQL\n",
        "  2. Data Analysis Libraries: Pandas, NumPy, SciPy\n",
        "  3. Machine Learning Libraries: Scikit-learn, TensorFlow, PyTorch\n",
        "  4. Data Visualization: Matplotlib, Seaborn, Plotly, Tableau\n",
        "  5. Big Data Tools: Apache Spark, Hadoop\n",
        "  6. Notebook Environments: Jupyter, Google Colab\n",
        "  7. Version Control: Git"
      ],
      "metadata": {
        "id": "cj0n_nbUeRr-"
      }
    },
    {
      "cell_type": "code",
      "source": [],
      "metadata": {
        "id": "qcVQsg_GgKNa"
      },
      "execution_count": null,
      "outputs": []
    }
  ]
}